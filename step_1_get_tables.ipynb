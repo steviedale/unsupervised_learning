{
 "cells": [
  {
   "cell_type": "code",
   "execution_count": 2,
   "metadata": {},
   "outputs": [],
   "source": [
    "import matplotlib.pyplot as plt\n",
    "import pandas as pd\n",
    "import numpy as np"
   ]
  },
  {
   "cell_type": "code",
   "execution_count": 3,
   "metadata": {},
   "outputs": [],
   "source": [
    "data = {\n",
    "    'mnist': {\n",
    "        'kmeans': {\n",
    "            'num_clusters': 30,\n",
    "            'accuracy': 0.9847,\n",
    "        },\n",
    "        'gmm': {\n",
    "            'num_clusters': 18,\n",
    "            'accuracy': 0.9299,\n",
    "        },\n",
    "    },\n",
    "    'wine_quality': {\n",
    "        'kmeans': {\n",
    "            'num_clusters': 20,\n",
    "            'mse': 0.7053,\n",
    "        },\n",
    "        'gmm': {\n",
    "            'num_clusters': 5,\n",
    "            'mse': 0.7158,\n",
    "        },\n",
    "    },\n",
    "}"
   ]
  },
  {
   "cell_type": "code",
   "execution_count": 4,
   "metadata": {},
   "outputs": [
    {
     "data": {
      "text/html": [
       "<style type=\"text/css\">\n",
       "</style>\n",
       "<table id=\"T_600d2\">\n",
       "  <thead>\n",
       "    <tr>\n",
       "      <th id=\"T_600d2_level0_col0\" class=\"col_heading level0 col0\" >dataset</th>\n",
       "      <th id=\"T_600d2_level0_col1\" class=\"col_heading level0 col1\" >method</th>\n",
       "      <th id=\"T_600d2_level0_col2\" class=\"col_heading level0 col2\" >num_clusters</th>\n",
       "      <th id=\"T_600d2_level0_col3\" class=\"col_heading level0 col3\" >accuracy</th>\n",
       "      <th id=\"T_600d2_level0_col4\" class=\"col_heading level0 col4\" >mse</th>\n",
       "      <th id=\"T_600d2_level0_col5\" class=\"col_heading level0 col5\" >training_time_mean</th>\n",
       "      <th id=\"T_600d2_level0_col6\" class=\"col_heading level0 col6\" >training_time_std</th>\n",
       "      <th id=\"T_600d2_level0_col7\" class=\"col_heading level0 col7\" >evaluation_time_mean</th>\n",
       "      <th id=\"T_600d2_level0_col8\" class=\"col_heading level0 col8\" >evaluation_time_std</th>\n",
       "    </tr>\n",
       "  </thead>\n",
       "  <tbody>\n",
       "    <tr>\n",
       "      <td id=\"T_600d2_row0_col0\" class=\"data row0 col0\" >mnist</td>\n",
       "      <td id=\"T_600d2_row0_col1\" class=\"data row0 col1\" >kmeans</td>\n",
       "      <td id=\"T_600d2_row0_col2\" class=\"data row0 col2\" >30</td>\n",
       "      <td id=\"T_600d2_row0_col3\" class=\"data row0 col3\" >0.984700</td>\n",
       "      <td id=\"T_600d2_row0_col4\" class=\"data row0 col4\" >nan</td>\n",
       "      <td id=\"T_600d2_row0_col5\" class=\"data row0 col5\" >4.510383</td>\n",
       "      <td id=\"T_600d2_row0_col6\" class=\"data row0 col6\" >0.430994</td>\n",
       "      <td id=\"T_600d2_row0_col7\" class=\"data row0 col7\" >0.003641</td>\n",
       "      <td id=\"T_600d2_row0_col8\" class=\"data row0 col8\" >0.001178</td>\n",
       "    </tr>\n",
       "    <tr>\n",
       "      <td id=\"T_600d2_row1_col0\" class=\"data row1 col0\" >mnist</td>\n",
       "      <td id=\"T_600d2_row1_col1\" class=\"data row1 col1\" >gmm</td>\n",
       "      <td id=\"T_600d2_row1_col2\" class=\"data row1 col2\" >18</td>\n",
       "      <td id=\"T_600d2_row1_col3\" class=\"data row1 col3\" >0.929900</td>\n",
       "      <td id=\"T_600d2_row1_col4\" class=\"data row1 col4\" >nan</td>\n",
       "      <td id=\"T_600d2_row1_col5\" class=\"data row1 col5\" >7.850203</td>\n",
       "      <td id=\"T_600d2_row1_col6\" class=\"data row1 col6\" >3.228929</td>\n",
       "      <td id=\"T_600d2_row1_col7\" class=\"data row1 col7\" >0.037464</td>\n",
       "      <td id=\"T_600d2_row1_col8\" class=\"data row1 col8\" >0.002961</td>\n",
       "    </tr>\n",
       "    <tr>\n",
       "      <td id=\"T_600d2_row2_col0\" class=\"data row2 col0\" >wine_quality</td>\n",
       "      <td id=\"T_600d2_row2_col1\" class=\"data row2 col1\" >kmeans</td>\n",
       "      <td id=\"T_600d2_row2_col2\" class=\"data row2 col2\" >20</td>\n",
       "      <td id=\"T_600d2_row2_col3\" class=\"data row2 col3\" >nan</td>\n",
       "      <td id=\"T_600d2_row2_col4\" class=\"data row2 col4\" >0.705300</td>\n",
       "      <td id=\"T_600d2_row2_col5\" class=\"data row2 col5\" >3.678567</td>\n",
       "      <td id=\"T_600d2_row2_col6\" class=\"data row2 col6\" >0.361637</td>\n",
       "      <td id=\"T_600d2_row2_col7\" class=\"data row2 col7\" >0.005317</td>\n",
       "      <td id=\"T_600d2_row2_col8\" class=\"data row2 col8\" >0.003137</td>\n",
       "    </tr>\n",
       "    <tr>\n",
       "      <td id=\"T_600d2_row3_col0\" class=\"data row3 col0\" >wine_quality</td>\n",
       "      <td id=\"T_600d2_row3_col1\" class=\"data row3 col1\" >gmm</td>\n",
       "      <td id=\"T_600d2_row3_col2\" class=\"data row3 col2\" >5</td>\n",
       "      <td id=\"T_600d2_row3_col3\" class=\"data row3 col3\" >nan</td>\n",
       "      <td id=\"T_600d2_row3_col4\" class=\"data row3 col4\" >0.715800</td>\n",
       "      <td id=\"T_600d2_row3_col5\" class=\"data row3 col5\" >1.034080</td>\n",
       "      <td id=\"T_600d2_row3_col6\" class=\"data row3 col6\" >0.170713</td>\n",
       "      <td id=\"T_600d2_row3_col7\" class=\"data row3 col7\" >0.001083</td>\n",
       "      <td id=\"T_600d2_row3_col8\" class=\"data row3 col8\" >0.000583</td>\n",
       "    </tr>\n",
       "  </tbody>\n",
       "</table>\n"
      ],
      "text/plain": [
       "<pandas.io.formats.style.Styler at 0x1627d6fc0>"
      ]
     },
     "execution_count": 4,
     "metadata": {},
     "output_type": "execute_result"
    }
   ],
   "source": [
    "df_data = {'dataset': [], 'method': [], 'num_clusters': [], 'accuracy': [], 'mse': [], \n",
    "        'training_time_mean': [], 'training_time_std': [], 'evaluation_time_mean': [], 'evaluation_time_std': []}\n",
    "for dataset, data1 in data.items():\n",
    "    for method, data2 in data1.items():\n",
    "        df_data['dataset'].append(dataset)\n",
    "        df_data['method'].append(method)\n",
    "        df_data['num_clusters'].append(data2['num_clusters'])\n",
    "        df_data['accuracy'].append(data2.get('accuracy', np.nan))\n",
    "        df_data['mse'].append(data2.get('mse', np.nan))\n",
    "\n",
    "        df = pd.read_csv(f'results/{dataset}/{method}_metrics.csv')\n",
    "        temp = df[df['num_components'] == data2['num_clusters']]\n",
    "        assert(len(temp) == 1)\n",
    "        row = temp.iloc[0]\n",
    "        df_data['training_time_mean'].append(row['training_time_mean'])\n",
    "        df_data['training_time_std'].append(row['training_time_std'])\n",
    "        df_data['evaluation_time_mean'].append(row['evaluation_time_mean'])\n",
    "        df_data['evaluation_time_std'].append(row['evaluation_time_std'])\n",
    "df = pd.DataFrame(df_data)\n",
    "df.to_csv('~/temp/step_1/stats.csv', index=False)\n",
    "df.style.hide(axis='index')"
   ]
  },
  {
   "cell_type": "code",
   "execution_count": null,
   "metadata": {},
   "outputs": [],
   "source": []
  }
 ],
 "metadata": {
  "kernelspec": {
   "display_name": "tf210",
   "language": "python",
   "name": "python3"
  },
  "language_info": {
   "codemirror_mode": {
    "name": "ipython",
    "version": 3
   },
   "file_extension": ".py",
   "mimetype": "text/x-python",
   "name": "python",
   "nbconvert_exporter": "python",
   "pygments_lexer": "ipython3",
   "version": "3.12.2"
  }
 },
 "nbformat": 4,
 "nbformat_minor": 2
}
