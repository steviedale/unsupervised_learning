{
 "cells": [
  {
   "cell_type": "code",
   "execution_count": 1,
   "metadata": {},
   "outputs": [],
   "source": [
    "# suppress all warnings\n",
    "import warnings\n",
    "warnings.filterwarnings(\"ignore\")"
   ]
  },
  {
   "cell_type": "code",
   "execution_count": 2,
   "metadata": {},
   "outputs": [],
   "source": [
    "import os\n",
    "import pandas as pd\n",
    "import numpy as np\n",
    "from tqdm import tqdm\n",
    "import pickle\n",
    "import time\n",
    "import json\n",
    "\n",
    "from sklearn.neural_network import MLPClassifier"
   ]
  },
  {
   "cell_type": "code",
   "execution_count": 3,
   "metadata": {},
   "outputs": [
    {
     "name": "stderr",
     "output_type": "stream",
     "text": [
      "2024-03-25 22:46:17.153286: I tensorflow/core/platform/cpu_feature_guard.cc:182] This TensorFlow binary is optimized to use available CPU instructions in performance-critical operations.\n",
      "To enable the following instructions: AVX2 FMA, in other operations, rebuild TensorFlow with the appropriate compiler flags.\n",
      "2024-03-25 22:46:17.791668: W tensorflow/compiler/tf2tensorrt/utils/py_utils.cc:38] TF-TRT Warning: Could not find TensorRT\n"
     ]
    }
   ],
   "source": [
    "from data_helpers.wine_quality_data_helper import load_wine_quality_data\n",
    "from data_helpers.mnist_data_helper import load_mnist_data"
   ]
  },
  {
   "cell_type": "code",
   "execution_count": 4,
   "metadata": {},
   "outputs": [],
   "source": [
    "DATASET_NAME = 'mnist'\n",
    "# DATASET_NAME = 'wine_quality'\n",
    "\n",
    "SAVE = True\n",
    "K_FOLDS = 5"
   ]
  },
  {
   "cell_type": "code",
   "execution_count": 5,
   "metadata": {},
   "outputs": [],
   "source": [
    "if DATASET_NAME == 'wine_quality':\n",
    "    DATASET_STR = 'Wine Quality'\n",
    "    X_train, y_train, X_test, y_test = load_wine_quality_data()\n",
    "elif DATASET_NAME == 'mnist':\n",
    "    DATASET_STR = 'MNIST'\n",
    "    X_train, y_train, X_test, y_test = load_mnist_data()\n",
    "else:\n",
    "    raise ValueError(f'Invalid dataset name {DATASET_NAME}')"
   ]
  },
  {
   "cell_type": "code",
   "execution_count": 6,
   "metadata": {},
   "outputs": [
    {
     "name": "stdout",
     "output_type": "stream",
     "text": [
      "Label 0: 5923 instances\n",
      "Label 1: 6742 instances\n",
      "Label 2: 5958 instances\n",
      "Label 3: 6131 instances\n",
      "Label 4: 5842 instances\n",
      "Label 5: 5421 instances\n",
      "Label 6: 5918 instances\n",
      "Label 7: 6265 instances\n",
      "Label 8: 5851 instances\n",
      "Label 9: 5949 instances\n"
     ]
    }
   ],
   "source": [
    "# get the number of instances of each label in y\n",
    "for i in np.unique(y_train):\n",
    "    print(f'Label {i}: {np.sum(y_train == i)} instances')"
   ]
  },
  {
   "cell_type": "code",
   "execution_count": 7,
   "metadata": {},
   "outputs": [
    {
     "name": "stderr",
     "output_type": "stream",
     "text": [
      "100%|██████████| 5/5 [01:28<00:00, 17.62s/it]\n"
     ]
    }
   ],
   "source": [
    "df = pd.DataFrame()\n",
    "n = X_train.shape[0] // K_FOLDS\n",
    "\n",
    "for i in tqdm(range(K_FOLDS)):\n",
    "    X_train_k = np.concatenate([X_train[:i * n], X_train[(i + 1) * n:]])\n",
    "    y_train_k = np.concatenate([y_train[:i * n], y_train[(i + 1) * n:]])\n",
    "    X_test_k = X_train[i * n:(i + 1) * n]\n",
    "    y_test_k = y_train[i * n:(i + 1) * n]\n",
    "\n",
    "    model = MLPClassifier(hidden_layer_sizes=[], max_iter=1000, random_state=i, early_stopping=True, n_iter_no_change=10, verbose=False)\n",
    "\n",
    "    t0 = time.perf_counter()\n",
    "    model.fit(X_train_k, y_train_k)\n",
    "    t1 = time.perf_counter()\n",
    "    training_time = t1 - t0\n",
    "\n",
    "    t0 = time.perf_counter()\n",
    "    y_test_pred = model.predict(X_test_k) \n",
    "    t1 = time.perf_counter()\n",
    "    evaluation_time = t1 - t0\n",
    "\n",
    "    df.loc[i, 'training_time'] = training_time\n",
    "    df.loc[i, 'evaluation_time'] = evaluation_time\n",
    "    df.loc[i, 'fold'] = i\n",
    "    df.loc[i, 'training_curve'] = json.dumps(model.loss_curve_)\n",
    "    df.loc[i, 'validation_scores'] = json.dumps(model.validation_scores_)"
   ]
  },
  {
   "cell_type": "code",
   "execution_count": 8,
   "metadata": {},
   "outputs": [],
   "source": [
    "df_path = f'results/step_4/{DATASET_NAME}/baseline_metrics.csv'\n",
    "os.makedirs(os.path.dirname(df_path), exist_ok=True)\n",
    "df.to_csv(df_path, index=False)"
   ]
  },
  {
   "cell_type": "code",
   "execution_count": null,
   "metadata": {},
   "outputs": [],
   "source": []
  }
 ],
 "metadata": {
  "kernelspec": {
   "display_name": "Python 3",
   "language": "python",
   "name": "python3"
  },
  "language_info": {
   "codemirror_mode": {
    "name": "ipython",
    "version": 3
   },
   "file_extension": ".py",
   "mimetype": "text/x-python",
   "name": "python",
   "nbconvert_exporter": "python",
   "pygments_lexer": "ipython3",
   "version": "3.8.10"
  }
 },
 "nbformat": 4,
 "nbformat_minor": 2
}
