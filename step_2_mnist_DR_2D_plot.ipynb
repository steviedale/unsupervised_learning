{
 "cells": [
  {
   "cell_type": "code",
   "execution_count": 88,
   "metadata": {},
   "outputs": [],
   "source": [
    "import os\n",
    "import pandas as pd\n",
    "import numpy as np\n",
    "from tqdm import tqdm\n",
    "import time\n",
    "import scipy.stats\n",
    "from sklearn.decomposition import FastICA, PCA\n",
    "from sklearn.neighbors import KNeighborsClassifier, KNeighborsRegressor\n",
    "from sklearn.manifold import LocallyLinearEmbedding\n",
    "from sklearn.random_projection import GaussianRandomProjection"
   ]
  },
  {
   "cell_type": "code",
   "execution_count": 89,
   "metadata": {},
   "outputs": [],
   "source": [
    "from data_helpers.wine_quality_data_helper import load_wine_quality_data\n",
    "from data_helpers.mnist_data_helper import load_mnist_data"
   ]
  },
  {
   "cell_type": "code",
   "execution_count": 90,
   "metadata": {},
   "outputs": [],
   "source": [
    "class ICAWrapper:\n",
    "    NAME = 'ICA'\n",
    "    def __init__(self, n_components) -> None:\n",
    "        self.model = FastICA(n_components=n_components, max_iter=1000)\n",
    "    \n",
    "    def fit(self, X):\n",
    "        return self.model.fit(X)\n",
    "    \n",
    "    def fit_transform(self, X):\n",
    "        return self.model.fit_transform(X)\n",
    "    \n",
    "    def transform(self, X):\n",
    "        return self.model.transform(X)\n",
    "\n",
    "class PCAWrapper:\n",
    "    NAME = 'PCA'\n",
    "    def __init__(self, n_components) -> None:\n",
    "        self.model = PCA(n_components=n_components)\n",
    "\n",
    "    def fit(self, X):\n",
    "        return self.model.fit(X)\n",
    "\n",
    "    def fit_transform(self, X):\n",
    "        return self.model.fit_transform(X)\n",
    "\n",
    "    def transform(self, X):\n",
    "        return self.model.transform(X)\n",
    "\n",
    "class RPWrapper:\n",
    "    NAME = 'RP'\n",
    "    def __init__(self, n_components) -> None:\n",
    "        self.model = GaussianRandomProjection(n_components=n_components)\n",
    "    \n",
    "    def fit(self, X):\n",
    "        return self.model.fit(X)\n",
    "    \n",
    "    def fit_transform(self, X):\n",
    "        return self.model.fit_transform(X)\n",
    "\n",
    "    def transform(self, X):\n",
    "        return self.model.transform(X)\n",
    "\n",
    "    def get_reconstruction_error(self, X):\n",
    "        X_star = self.model.fit_transform(X)\n",
    "        X_reconstructed = self.model.inverse_transform(X_star)\n",
    "        return np.mean(np.square(X - X_reconstructed))\n",
    "    \n",
    "class LLEWrapper:\n",
    "    NAME = 'LLE'\n",
    "    def __init__(self, n_components) -> None:\n",
    "        self.model = LocallyLinearEmbedding(n_components=n_components, n_neighbors=10)\n",
    "    \n",
    "    def fit(self, X):\n",
    "        return self.model.fit(X)\n",
    "    \n",
    "    def fit_transform(self, X):\n",
    "        return self.model.fit_transform(X)\n",
    "    \n",
    "    def transform(self, X):\n",
    "        return self.model.transform(X)\n",
    "    \n",
    "    def get_reconstruction_error(self):\n",
    "        return self.model.reconstruction_error_"
   ]
  },
  {
   "cell_type": "code",
   "execution_count": 91,
   "metadata": {},
   "outputs": [],
   "source": [
    "# DATASET_NAME = 'mnist'\n",
    "DATASET_NAME = 'wine_quality'\n",
    "\n",
    "METHOD = PCAWrapper\n",
    "# METHOD = ICAWrapper\n",
    "# METHOD = RPWrapper\n",
    "# METHOD = LLEWrapper"
   ]
  },
  {
   "cell_type": "code",
   "execution_count": 92,
   "metadata": {},
   "outputs": [],
   "source": [
    "if DATASET_NAME == 'wine_quality':\n",
    "    DATASET_STR = 'Wine Quality'\n",
    "    X, y, _, _ = load_wine_quality_data()\n",
    "elif DATASET_NAME == 'mnist':\n",
    "    DATASET_STR = 'MNIST'\n",
    "    X, y, _, _ = load_mnist_data()\n",
    "else:\n",
    "    raise ValueError(f'Invalid dataset name {DATASET_NAME}')\n",
    "\n",
    "if DATASET_NAME == 'mnist':\n",
    "    n = 5000\n",
    "    X = X[:n]\n",
    "    y = y[:n]"
   ]
  },
  {
   "cell_type": "code",
   "execution_count": 93,
   "metadata": {},
   "outputs": [],
   "source": [
    "num_components = 2"
   ]
  },
  {
   "cell_type": "code",
   "execution_count": 94,
   "metadata": {},
   "outputs": [],
   "source": [
    "n = int(X.shape[0] * 0.8)\n",
    "X_train = X[:n]\n",
    "y_train = y[:n]\n",
    "X_test = X[n:]\n",
    "y_test = y[n:]"
   ]
  },
  {
   "cell_type": "code",
   "execution_count": 95,
   "metadata": {},
   "outputs": [
    {
     "data": {
      "text/plain": [
       "(3134, 11)"
      ]
     },
     "execution_count": 95,
     "metadata": {},
     "output_type": "execute_result"
    }
   ],
   "source": [
    "X_train.shape"
   ]
  },
  {
   "cell_type": "code",
   "execution_count": 96,
   "metadata": {},
   "outputs": [],
   "source": [
    "model = METHOD(num_components)\n",
    "X_train_star = model.fit(X_train)"
   ]
  },
  {
   "cell_type": "code",
   "execution_count": 97,
   "metadata": {},
   "outputs": [],
   "source": [
    "X_test_star = model.transform(X_test)"
   ]
  },
  {
   "cell_type": "code",
   "execution_count": 98,
   "metadata": {},
   "outputs": [],
   "source": [
    "import matplotlib.pyplot as plt"
   ]
  },
  {
   "cell_type": "code",
   "execution_count": 99,
   "metadata": {},
   "outputs": [
    {
     "data": {
      "text/plain": [
       "(784, 2)"
      ]
     },
     "execution_count": 99,
     "metadata": {},
     "output_type": "execute_result"
    }
   ],
   "source": [
    "X_test_star.shape"
   ]
  },
  {
   "cell_type": "code",
   "execution_count": 100,
   "metadata": {},
   "outputs": [
    {
     "data": {
      "text/plain": [
       "array([[-29.98367148,  10.64180684],\n",
       "       [ 90.92614771, -11.06850681],\n",
       "       [ 36.41266314,  13.55417408],\n",
       "       ...,\n",
       "       [  6.93294333, -21.1689824 ],\n",
       "       [ 60.51345222,  -5.29076102],\n",
       "       [ 15.25172028, -14.8557492 ]])"
      ]
     },
     "execution_count": 100,
     "metadata": {},
     "output_type": "execute_result"
    }
   ],
   "source": [
    "X_test_star"
   ]
  },
  {
   "cell_type": "code",
   "execution_count": 101,
   "metadata": {},
   "outputs": [
    {
     "name": "stdout",
     "output_type": "stream",
     "text": [
      "/Users/sdale/repos/gatech/machine_learning/unsupervised_learning/final_results/step_2/pca_wine_quality_2d.png\n"
     ]
    },
    {
     "data": {
      "image/png": "[encoded data removed]",
      "text/plain": [
       "<Figure size 1000x600 with 1 Axes>"
      ]
     },
     "metadata": {},
     "output_type": "display_data"
    }
   ],
   "source": [
    "fontsize = 22\n",
    "plt.figure(figsize=(10, 6))\n",
    "X_0 = X_test_star[y_test == 0]\n",
    "X_1 = X_test_star[y_test == 1]\n",
    "X_2 = X_test_star[y_test == 2]\n",
    "A = 0.3\n",
    "plt.scatter(X_0[:, 0], X_0[:, 1], label='Digit: 0', alpha=A)\n",
    "plt.scatter(X_1[:, 0], X_1[:, 1], label='Digit: 1', alpha=A)\n",
    "plt.scatter(X_2[:, 0], X_2[:, 1], label='Digit: 2', alpha=A)\n",
    "plt.title(f'{METHOD.NAME} - 2 Components - {DATASET_STR}', fontsize=fontsize)\n",
    "plt.xlabel('Component 1', fontsize=fontsize)\n",
    "plt.ylabel('Component 2', fontsize=fontsize)\n",
    "plt.legend(fontsize=fontsize)\n",
    "\n",
    "plt.xticks(fontsize=fontsize-2)\n",
    "plt.yticks(fontsize=fontsize-2)\n",
    "\n",
    "path = (f'/Users/sdale/repos/gatech/machine_learning/unsupervised_learning/final_results/step_2/'+\n",
    "        f'{METHOD.NAME.lower()}_{DATASET_NAME.lower()}_2d.png')\n",
    "print(path)\n",
    "os.makedirs(os.path.dirname(path), exist_ok=True)\n",
    "plt.savefig(path, bbox_inches='tight')"
   ]
  },
  {
   "cell_type": "code",
   "execution_count": null,
   "metadata": {},
   "outputs": [],
   "source": []
  }
 ],
 "metadata": {
  "kernelspec": {
   "display_name": "tf210",
   "language": "python",
   "name": "python3"
  },
  "language_info": {
   "codemirror_mode": {
    "name": "ipython",
    "version": 3
   },
   "file_extension": ".py",
   "mimetype": "text/x-python",
   "name": "python",
   "nbconvert_exporter": "python",
   "pygments_lexer": "ipython3",
   "version": "3.12.2"
  }
 },
 "nbformat": 4,
 "nbformat_minor": 2
}
