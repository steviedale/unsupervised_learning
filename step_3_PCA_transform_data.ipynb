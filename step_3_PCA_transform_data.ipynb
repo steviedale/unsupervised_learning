{
 "cells": [
  {
   "cell_type": "code",
   "execution_count": 19,
   "metadata": {},
   "outputs": [],
   "source": [
    "import scipy.stats\n",
    "from sklearn.decomposition import PCA\n",
    "import pickle\n",
    "import os"
   ]
  },
  {
   "cell_type": "code",
   "execution_count": 20,
   "metadata": {},
   "outputs": [],
   "source": [
    "from data_helpers.wine_quality_data_helper import load_wine_quality_data\n",
    "from data_helpers.mnist_data_helper import load_mnist_data"
   ]
  },
  {
   "cell_type": "code",
   "execution_count": 21,
   "metadata": {},
   "outputs": [],
   "source": [
    "class PCAWrapper:\n",
    "    NAME = 'PCA'\n",
    "    def __init__(self, n_components) -> None:\n",
    "        self.model = PCA(n_components=n_components)\n",
    "    \n",
    "    def fit(self, X):\n",
    "        return self.model.fit(X)\n",
    "    \n",
    "    def fit_transform(self, X):\n",
    "        return self.model.fit_transform(X)\n",
    "\n",
    "    def transform(self, X):\n",
    "        return self.model.transform(X)\n",
    "    \n",
    "    def get_kurtosis(self, X):\n",
    "        X_star = self.model.fit_transform(X)\n",
    "        kurtosis = scipy.stats.kurtosis(X_star).mean()\n",
    "        return kurtosis"
   ]
  },
  {
   "cell_type": "code",
   "execution_count": 22,
   "metadata": {},
   "outputs": [],
   "source": [
    "DATASET_NAME = 'mnist'\n",
    "DATASET_STR = 'MNIST'\n",
    "\n",
    "# DATASET_NAME = 'wine_quality'\n",
    "# DATASET_STR = 'Wine Quality'\n",
    "\n",
    "METHOD = PCAWrapper\n",
    "K_FOLDS = 5\n",
    "SAVE = True"
   ]
  },
  {
   "cell_type": "code",
   "execution_count": 23,
   "metadata": {},
   "outputs": [],
   "source": [
    "if DATASET_NAME == 'wine_quality':\n",
    "    X_train, y_train, X_test, y_test = load_wine_quality_data()\n",
    "elif DATASET_NAME == 'mnist':\n",
    "    X_train, y_train, X_test, y_test = load_mnist_data()\n",
    "else:\n",
    "    raise ValueError(f'Unknown dataset: {DATASET_NAME}')"
   ]
  },
  {
   "cell_type": "code",
   "execution_count": 24,
   "metadata": {},
   "outputs": [],
   "source": [
    "if DATASET_NAME == 'wine_quality':\n",
    "    components = 4\n",
    "elif DATASET_NAME == 'mnist':\n",
    "    components = 35"
   ]
  },
  {
   "cell_type": "code",
   "execution_count": 25,
   "metadata": {},
   "outputs": [],
   "source": [
    "model = METHOD(components)\n",
    "X_train_star = model.fit_transform(X_train)\n",
    "X_test_star = model.transform(X_test)"
   ]
  },
  {
   "cell_type": "code",
   "execution_count": 26,
   "metadata": {},
   "outputs": [],
   "source": [
    "dir = f\"transformed_data/{DATASET_NAME}/{METHOD.NAME}\"\n",
    "os.makedirs(dir, exist_ok=True)\n",
    "pickle.dump(X_train_star, open(f\"{dir}/X_train.pkl\", \"wb\"))\n",
    "pickle.dump(X_test_star, open(f\"{dir}/X_test.pkl\", \"wb\"))\n",
    "pickle.dump(y_train, open(f\"{dir}/y_train.pkl\", \"wb\"))\n",
    "pickle.dump(y_test, open(f\"{dir}/y_test.pkl\", \"wb\"))"
   ]
  },
  {
   "cell_type": "code",
   "execution_count": 27,
   "metadata": {},
   "outputs": [
    {
     "data": {
      "text/plain": [
       "((3147, 196), (3147, 35))"
      ]
     },
     "execution_count": 27,
     "metadata": {},
     "output_type": "execute_result"
    }
   ],
   "source": [
    "X_test.shape, X_test_star.shape"
   ]
  }
 ],
 "metadata": {
  "kernelspec": {
   "display_name": "tf210",
   "language": "python",
   "name": "python3"
  },
  "language_info": {
   "codemirror_mode": {
    "name": "ipython",
    "version": 3
   },
   "file_extension": ".py",
   "mimetype": "text/x-python",
   "name": "python",
   "nbconvert_exporter": "python",
   "pygments_lexer": "ipython3",
   "version": "3.12.2"
  }
 },
 "nbformat": 4,
 "nbformat_minor": 2
}
