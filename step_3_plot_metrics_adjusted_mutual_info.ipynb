{
 "cells": [
  {
   "cell_type": "code",
   "execution_count": null,
   "metadata": {},
   "outputs": [],
   "source": [
    "import matplotlib.pyplot as plt\n",
    "import pandas as pd\n",
    "import numpy as np\n",
    "import os"
   ]
  },
  {
   "cell_type": "code",
   "execution_count": null,
   "metadata": {},
   "outputs": [],
   "source": [
    "DATASET = 'mnist'\n",
    "# DATASET = 'wine_quality'\n",
    "\n",
    "if DATASET == 'mnist':\n",
    "    DATASET_STR = 'MNIST'\n",
    "elif DATASET == 'wine_quality':\n",
    "    DATASET_STR = 'Wine Quality'\n",
    "\n",
    "# METHOD = 'GMM'\n",
    "METHOD = 'KMeans'\n",
    "\n",
    "\n",
    "# metric = 'calinski_harabasz_score'        # higher is better\n",
    "# metric = 'davies_bouldin_score'           # lower is better\n",
    "# metric = 'adjusted_rand_score'            # higher is better\n",
    "metric = 'adjusted_mutual_info_score'     # higher is better\n",
    "# metric = 'homogeneity_score'              # higher is better\n",
    "# metric = 'completeness_score'             # higher is better\n",
    "# metric = 'silhouette_score'               # higher is better\n",
    "\n",
    "# metric = 'inertia'\n",
    "# metric = 'aic'\n",
    "\n",
    "metric_str = metric.replace('_', ' ').title()\n",
    "# metric_str = metric_str.replace('Aic', 'AIC')\n",
    "\n",
    "# if DATASET == 'mnist':\n",
    "#     metric = 'accuracy'\n",
    "#     metric_str = 'Accuracy'\n",
    "# elif DATASET == 'wine_quality':\n",
    "#     metric = 'mse'\n",
    "#     metric_str = 'Mean Squared Error'\n"
   ]
  },
  {
   "cell_type": "code",
   "execution_count": null,
   "metadata": {},
   "outputs": [],
   "source": [
    "data = {}\n",
    "for dim_red_method in 'PCA', 'LLE':\n",
    "    df = pd.read_csv(f'results/step_3/{DATASET}/{METHOD}_{dim_red_method}_metrics.csv')\n",
    "    df.sort_values(by='num_components', inplace=True)\n",
    "    X = np.array(df['num_components'])\n",
    "    y = np.array(df[f'{metric}_mean'])\n",
    "    error = np.array(df[f'{metric}_std'])\n",
    "    data[dim_red_method] = X, y, error"
   ]
  },
  {
   "cell_type": "code",
   "execution_count": null,
   "metadata": {},
   "outputs": [],
   "source": []
  },
  {
   "cell_type": "code",
   "execution_count": null,
   "metadata": {},
   "outputs": [],
   "source": [
    "plt.figure(figsize=(10, 6))\n",
    "\n",
    "for dim_red_method, (X, y, error) in data.items():\n",
    "    plt.plot(X, y, label=dim_red_method)\n",
    "    plt.fill_between(\n",
    "        X, \n",
    "        y-error, \n",
    "        y+error,\n",
    "        alpha=0.15)\n",
    "\n",
    "plt.xlabel('Number of components', fontsize=16)\n",
    "plt.ylabel(metric_str, fontsize=16)\n",
    "plt.title(f'{METHOD} - {DATASET_STR} - {metric_str} vs Number of components', fontsize=16)\n",
    "plt.legend()\n",
    "\n",
    "path = f'figures/step_3/{DATASET}/{METHOD}_{metric}.png'\n",
    "os.makedirs(os.path.dirname(path), exist_ok=True)\n",
    "plt.savefig(path)"
   ]
  },
  {
   "cell_type": "code",
   "execution_count": null,
   "metadata": {},
   "outputs": [],
   "source": []
  },
  {
   "cell_type": "code",
   "execution_count": null,
   "metadata": {},
   "outputs": [],
   "source": []
  }
 ],
 "metadata": {
  "kernelspec": {
   "display_name": "tf210",
   "language": "python",
   "name": "python3"
  },
  "language_info": {
   "codemirror_mode": {
    "name": "ipython",
    "version": 3
   },
   "file_extension": ".py",
   "mimetype": "text/x-python",
   "name": "python",
   "nbconvert_exporter": "python",
   "pygments_lexer": "ipython3",
   "version": "3.8.10"
  }
 },
 "nbformat": 4,
 "nbformat_minor": 2
}
