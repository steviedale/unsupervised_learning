{
 "cells": [
  {
   "cell_type": "code",
   "execution_count": null,
   "metadata": {},
   "outputs": [],
   "source": [
    "from sklearn.cluster import KMeans\n",
    "from sklearn.mixture import GaussianMixture\n",
    "import pickle\n",
    "import os\n",
    "import numpy as np"
   ]
  },
  {
   "cell_type": "code",
   "execution_count": null,
   "metadata": {},
   "outputs": [],
   "source": [
    "from data_helpers.wine_quality_data_helper import load_wine_quality_data\n",
    "from data_helpers.mnist_data_helper import load_mnist_data"
   ]
  },
  {
   "cell_type": "code",
   "execution_count": null,
   "metadata": {},
   "outputs": [],
   "source": [
    "class GaussianMixtureWrapper:\n",
    "    NAME = 'GMM'\n",
    "    def __init__(self, n_components):\n",
    "        self.n_components = n_components\n",
    "        self.model = GaussianMixture(n_components=n_components)\n",
    "\n",
    "    def fit(self, X):\n",
    "        self.model.fit(X)\n",
    "\n",
    "    def predict(self, X):\n",
    "        return self.model.predict(X)\n",
    "\n",
    "class KMeansWrapper:\n",
    "    NAME = 'KMeans'\n",
    "    def __init__(self, n_clusters):\n",
    "        self.n_clusters = n_clusters\n",
    "        self.model = KMeans(n_clusters=n_clusters)\n",
    "\n",
    "    def fit(self, X):\n",
    "        self.model.fit(X)\n",
    "\n",
    "    def predict(self, X):\n",
    "        return self.model.predict(X)"
   ]
  },
  {
   "cell_type": "code",
   "execution_count": null,
   "metadata": {},
   "outputs": [],
   "source": [
    "# DATASET_NAME = 'wine_quality'\n",
    "# DATASET_STR = 'Wine Quality'\n",
    "\n",
    "DATASET_NAME = 'mnist'\n",
    "DATASET_STR = 'MNIST'\n",
    "\n",
    "METHOD = GaussianMixtureWrapper\n",
    "# METHOD = KMeansWrapper"
   ]
  },
  {
   "cell_type": "code",
   "execution_count": null,
   "metadata": {},
   "outputs": [],
   "source": [
    "if DATASET_NAME == 'wine_quality':\n",
    "    X_train, y_train, X_test, y_test = load_wine_quality_data()\n",
    "elif DATASET_NAME == 'mnist':\n",
    "    X_train, y_train, X_test, y_test = load_mnist_data()\n",
    "else:\n",
    "    raise ValueError(f'Unknown dataset: {DATASET_NAME}')"
   ]
  },
  {
   "cell_type": "code",
   "execution_count": null,
   "metadata": {},
   "outputs": [],
   "source": [
    "components = 20"
   ]
  },
  {
   "cell_type": "code",
   "execution_count": null,
   "metadata": {},
   "outputs": [],
   "source": [
    "model = METHOD(components)\n",
    "model.fit(X_train)"
   ]
  },
  {
   "cell_type": "code",
   "execution_count": null,
   "metadata": {},
   "outputs": [],
   "source": [
    "if METHOD == GaussianMixtureWrapper:\n",
    "    X_train_star = model.model.predict_proba(X_train)\n",
    "    X_test_star = model.model.predict_proba(X_test)\n",
    "elif METHOD == KMeansWrapper:\n",
    "    def get_distances(X, model):\n",
    "        distances = []\n",
    "        for x in X:\n",
    "            distance_vector = []\n",
    "            for center in model.model.cluster_centers_:\n",
    "                distance_vector.append(np.linalg.norm(x - center))\n",
    "            distances.append(distance_vector)\n",
    "        return np.array(distances)\n",
    "    X_train_star = get_distances(X_train, model)\n",
    "    X_test_star = get_distances(X_test, model)"
   ]
  },
  {
   "cell_type": "code",
   "execution_count": null,
   "metadata": {},
   "outputs": [],
   "source": [
    "X_train_star = np.hstack((X_train, X_train_star))\n",
    "X_test_star = np.hstack((X_test, X_test_star))"
   ]
  },
  {
   "cell_type": "code",
   "execution_count": null,
   "metadata": {},
   "outputs": [],
   "source": [
    "dir = f\"transformed_data/step_5/{DATASET_NAME}/{METHOD.NAME}\"\n",
    "os.makedirs(dir, exist_ok=True)\n",
    "pickle.dump(X_train_star, open(f\"{dir}/X_train.pkl\", \"wb\"))\n",
    "pickle.dump(X_test_star, open(f\"{dir}/X_test.pkl\", \"wb\"))\n",
    "pickle.dump(y_train, open(f\"{dir}/y_train.pkl\", \"wb\"))\n",
    "pickle.dump(y_test, open(f\"{dir}/y_test.pkl\", \"wb\"))"
   ]
  },
  {
   "cell_type": "code",
   "execution_count": null,
   "metadata": {},
   "outputs": [],
   "source": [
    "X_test.shape, X_test_star.shape"
   ]
  },
  {
   "cell_type": "code",
   "execution_count": null,
   "metadata": {},
   "outputs": [],
   "source": []
  }
 ],
 "metadata": {
  "kernelspec": {
   "display_name": "tf210",
   "language": "python",
   "name": "python3"
  },
  "language_info": {
   "codemirror_mode": {
    "name": "ipython",
    "version": 3
   },
   "file_extension": ".py",
   "mimetype": "text/x-python",
   "name": "python",
   "nbconvert_exporter": "python",
   "pygments_lexer": "ipython3",
   "version": "3.8.10"
  }
 },
 "nbformat": 4,
 "nbformat_minor": 2
}
