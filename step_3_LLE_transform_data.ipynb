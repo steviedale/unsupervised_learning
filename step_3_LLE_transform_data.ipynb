{
 "cells": [
  {
   "cell_type": "code",
   "execution_count": null,
   "metadata": {},
   "outputs": [],
   "source": [
    "from sklearn.manifold import LocallyLinearEmbedding\n",
    "import pickle\n",
    "import os"
   ]
  },
  {
   "cell_type": "code",
   "execution_count": null,
   "metadata": {},
   "outputs": [],
   "source": [
    "from data_helpers.wine_quality_data_helper import load_wine_quality_data\n",
    "from data_helpers.mnist_data_helper import load_mnist_data"
   ]
  },
  {
   "cell_type": "code",
   "execution_count": null,
   "metadata": {},
   "outputs": [],
   "source": [
    "class LLEWrapper:\n",
    "    NAME = 'LLE'\n",
    "    def __init__(self, n_components) -> None:\n",
    "        self.model = LocallyLinearEmbedding(n_components=n_components, n_neighbors=10)\n",
    "    \n",
    "    def fit(self, X):\n",
    "        return self.model.fit(X)\n",
    "    \n",
    "    def fit_transform(self, X):\n",
    "        return self.model.fit_transform(X)\n",
    "    \n",
    "    def transform(self, X):\n",
    "        return self.model.transform(X)\n",
    "    \n",
    "    def get_reconstruction_error(self):\n",
    "        return self.model.reconstruction_error_"
   ]
  },
  {
   "cell_type": "code",
   "execution_count": null,
   "metadata": {},
   "outputs": [],
   "source": [
    "DATASET_NAME = 'wine_quality'\n",
    "DATASET_STR = 'Wine Quality'\n",
    "\n",
    "# DATASET_NAME = 'mnist'\n",
    "# DATASET_STR = 'MNIST'\n",
    "\n",
    "METHOD = LLEWrapper"
   ]
  },
  {
   "cell_type": "code",
   "execution_count": null,
   "metadata": {},
   "outputs": [],
   "source": [
    "if DATASET_NAME == 'wine_quality':\n",
    "    X_train, y_train, X_test, y_test = load_wine_quality_data()\n",
    "elif DATASET_NAME == 'mnist':\n",
    "    X_train, y_train, X_test, y_test = load_mnist_data()\n",
    "else:\n",
    "    raise ValueError(f'Unknown dataset: {DATASET_NAME}')"
   ]
  },
  {
   "cell_type": "code",
   "execution_count": null,
   "metadata": {},
   "outputs": [],
   "source": [
    "if DATASET_NAME == 'mnist':\n",
    "    X_train_reduced = X_train[:3000]\n",
    "elif DATASET_NAME == 'wine_quality':\n",
    "    X_train_reduced = X_train[:3000]"
   ]
  },
  {
   "cell_type": "code",
   "execution_count": null,
   "metadata": {},
   "outputs": [],
   "source": [
    "if DATASET_NAME == 'wine_quality':\n",
    "    components = 11\n",
    "elif DATASET_NAME == 'mnist':\n",
    "    components = 35"
   ]
  },
  {
   "cell_type": "code",
   "execution_count": null,
   "metadata": {},
   "outputs": [],
   "source": [
    "model = METHOD(components)\n",
    "model.fit(X_train_reduced)\n",
    "X_train_star = model.transform(X_train)\n",
    "X_test_star = model.transform(X_test)"
   ]
  },
  {
   "cell_type": "code",
   "execution_count": null,
   "metadata": {},
   "outputs": [],
   "source": [
    "dir = f\"transformed_data/{DATASET_NAME}/{METHOD.NAME}\"\n",
    "os.makedirs(dir, exist_ok=True)\n",
    "pickle.dump(X_train_star, open(f\"{dir}/X_train.pkl\", \"wb\"))\n",
    "pickle.dump(X_test_star, open(f\"{dir}/X_test.pkl\", \"wb\"))\n",
    "pickle.dump(y_train, open(f\"{dir}/y_train.pkl\", \"wb\"))\n",
    "pickle.dump(y_test, open(f\"{dir}/y_test.pkl\", \"wb\"))"
   ]
  },
  {
   "cell_type": "code",
   "execution_count": null,
   "metadata": {},
   "outputs": [],
   "source": [
    "X_test.shape, X_test_star.shape"
   ]
  }
 ],
 "metadata": {
  "kernelspec": {
   "display_name": "tf210",
   "language": "python",
   "name": "python3"
  },
  "language_info": {
   "codemirror_mode": {
    "name": "ipython",
    "version": 3
   },
   "file_extension": ".py",
   "mimetype": "text/x-python",
   "name": "python",
   "nbconvert_exporter": "python",
   "pygments_lexer": "ipython3",
   "version": "3.8.10"
  }
 },
 "nbformat": 4,
 "nbformat_minor": 2
}
