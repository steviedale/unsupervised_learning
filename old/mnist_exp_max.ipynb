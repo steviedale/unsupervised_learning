{
 "cells": [
  {
   "cell_type": "code",
   "execution_count": 1,
   "metadata": {},
   "outputs": [
    {
     "name": "stderr",
     "output_type": "stream",
     "text": [
      "/Users/sdale/Library/Python/3.9/lib/python/site-packages/urllib3/__init__.py:34: NotOpenSSLWarning: urllib3 v2.0 only supports OpenSSL 1.1.1+, currently the 'ssl' module is compiled with 'LibreSSL 2.8.3'. See: https://github.com/urllib3/urllib3/issues/3020\n",
      "  warnings.warn(\n"
     ]
    }
   ],
   "source": [
    "from keras.datasets import mnist\n",
    "import matplotlib.pyplot as plt\n",
    "import numpy as np\n",
    "from sklearn.mixture import GaussianMixture\n",
    "from tqdm import tqdm"
   ]
  },
  {
   "cell_type": "code",
   "execution_count": 13,
   "metadata": {},
   "outputs": [],
   "source": [
    "(raw_train_X, raw_train_y), (raw_test_X, raw_test_y) = mnist.load_data()\n",
    "train_X = raw_train_X / 255\n",
    "test_X = raw_test_X / 255\n",
    "train_X = train_X.reshape(train_X.shape[0], 28*28)\n",
    "test_X = test_X.reshape(test_X.shape[0], 28*28)\n",
    "perm = np.random.permutation(train_X.shape[0])\n",
    "train_X = train_X[perm]\n",
    "train_y = raw_train_y[perm]\n",
    "perm = np.random.permutation(test_X.shape[0])\n",
    "test_X = test_X[perm]\n",
    "test_y = raw_test_y[perm]\n",
    "# n = train_X.shape[0]//2\n",
    "# val_X = train_X[:n]\n",
    "# val_y = train_y[:n]\n",
    "# train_X = train_X[n:]\n",
    "# train_y = train_y[n:]\n",
    "n = 1000\n",
    "val_X = train_X[n:2*n]\n",
    "val_y = train_y[n:2*n]\n",
    "train_X = train_X[:n]\n",
    "train_y = train_y[:n]"
   ]
  },
  {
   "cell_type": "code",
   "execution_count": 14,
   "metadata": {},
   "outputs": [
    {
     "data": {
      "text/plain": [
       "(1000, 784)"
      ]
     },
     "execution_count": 14,
     "metadata": {},
     "output_type": "execute_result"
    }
   ],
   "source": [
    "train_X.shape"
   ]
  },
  {
   "cell_type": "code",
   "execution_count": 23,
   "metadata": {},
   "outputs": [
    {
     "name": "stderr",
     "output_type": "stream",
     "text": [
      "100%|██████████| 9/9 [00:27<00:00,  3.11s/it]\n"
     ]
    }
   ],
   "source": [
    "data = {'num_components': [], 'bic': [], 'aic': []}\n",
    "for components in tqdm(range(2, 11)):\n",
    "# for components in tqdm([2, 5, 10, 20, 30, 50, 100]):\n",
    "    gm = GaussianMixture(n_components=components, random_state=0).fit(train_X)\n",
    "    aic = gm.aic(val_X)\n",
    "    bic = gm.bic(val_X)\n",
    "    # aic = gm.aic(train_X)\n",
    "    # bic = gm.bic(train_X)\n",
    "    data['num_components'].append(components)\n",
    "    data['aic'].append(aic)\n",
    "    data['bic'].append(bic)"
   ]
  },
  {
   "cell_type": "code",
   "execution_count": 24,
   "metadata": {},
   "outputs": [
    {
     "data": {
      "text/plain": [
       "[<matplotlib.lines.Line2D at 0x4de10be80>]"
      ]
     },
     "execution_count": 24,
     "metadata": {},
     "output_type": "execute_result"
    },
    {
     "data": {
      "image/png": "[encoded data removed]",
      "text/plain": [
       "<Figure size 640x480 with 1 Axes>"
      ]
     },
     "metadata": {},
     "output_type": "display_data"
    }
   ],
   "source": [
    "plt.plot(data['num_components'], data['aic'], label='AIC')"
   ]
  },
  {
   "cell_type": "code",
   "execution_count": null,
   "metadata": {},
   "outputs": [],
   "source": [
    "# test_X = test_X.reshape(10000, 28*28)\n",
    "# perm = np.random.permutation(test_X.shape[0])\n",
    "# X = test_X[perm]\n",
    "# y = test_y[perm]\n",
    "# n = 1000\n",
    "# X = X[:n]\n",
    "# y = y[:n]"
   ]
  },
  {
   "cell_type": "code",
   "execution_count": null,
   "metadata": {},
   "outputs": [],
   "source": [
    "gm = GaussianMixture(n_components=10, random_state=0).fit(X[:1000])"
   ]
  },
  {
   "cell_type": "code",
   "execution_count": null,
   "metadata": {},
   "outputs": [],
   "source": [
    "gm.bic()"
   ]
  },
  {
   "cell_type": "code",
   "execution_count": null,
   "metadata": {},
   "outputs": [],
   "source": [
    "y_pred[:10]"
   ]
  },
  {
   "cell_type": "code",
   "execution_count": null,
   "metadata": {},
   "outputs": [],
   "source": [
    "y[:10]"
   ]
  },
  {
   "cell_type": "code",
   "execution_count": null,
   "metadata": {},
   "outputs": [],
   "source": [
    "accuracy_score(y, y_pred)"
   ]
  },
  {
   "cell_type": "code",
   "execution_count": null,
   "metadata": {},
   "outputs": [],
   "source": [
    "mask_3 = y == 1\n",
    "X_3 = X[mask_3]"
   ]
  },
  {
   "cell_type": "code",
   "execution_count": null,
   "metadata": {},
   "outputs": [],
   "source": [
    "out = gm.predict(X_3)"
   ]
  },
  {
   "cell_type": "code",
   "execution_count": null,
   "metadata": {},
   "outputs": [],
   "source": [
    "gm.bic"
   ]
  },
  {
   "cell_type": "code",
   "execution_count": null,
   "metadata": {},
   "outputs": [],
   "source": [
    "plt.hist(out)"
   ]
  },
  {
   "cell_type": "code",
   "execution_count": null,
   "metadata": {},
   "outputs": [],
   "source": []
  }
 ],
 "metadata": {
  "kernelspec": {
   "display_name": "Python 3",
   "language": "python",
   "name": "python3"
  },
  "language_info": {
   "codemirror_mode": {
    "name": "ipython",
    "version": 3
   },
   "file_extension": ".py",
   "mimetype": "text/x-python",
   "name": "python",
   "nbconvert_exporter": "python",
   "pygments_lexer": "ipython3",
   "version": "3.9.6"
  }
 },
 "nbformat": 4,
 "nbformat_minor": 2
}
