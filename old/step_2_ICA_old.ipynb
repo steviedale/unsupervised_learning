{
 "cells": [
  {
   "cell_type": "code",
   "execution_count": 88,
   "metadata": {},
   "outputs": [],
   "source": [
    "import os\n",
    "import pandas as pd\n",
    "import numpy as np\n",
    "from tqdm import tqdm\n",
    "import time\n",
    "import scipy.stats\n",
    "from sklearn.decomposition import FastICA, PCA\n",
    "from sklearn.neighbors import KNeighborsClassifier\n",
    "from sklearn.manifold import LocallyLinearEmbedding\n",
    "from sklearn.random_projection import GaussianRandomProjection"
   ]
  },
  {
   "cell_type": "code",
   "execution_count": 89,
   "metadata": {},
   "outputs": [],
   "source": [
    "from data_helpers.wine_quality_data_helper import load_wine_quality_data\n",
    "from data_helpers.mnist_data_helper import load_mnist_data"
   ]
  },
  {
   "cell_type": "code",
   "execution_count": 90,
   "metadata": {},
   "outputs": [],
   "source": [
    "class ICAWrapper:\n",
    "    NAME = 'ICA'\n",
    "    def __init__(self, n_components) -> None:\n",
    "        self.model = FastICA(n_components=n_components, max_iter=1000)\n",
    "    \n",
    "    def fit(self, X):\n",
    "        return self.model.fit(X)\n",
    "    \n",
    "    def fit_transform(self, X):\n",
    "        return self.model.fit_transform(X)\n",
    "    \n",
    "    def transform(self, X):\n",
    "        return self.model.transform(X)\n",
    "\n",
    "class PCAWrapper:\n",
    "    NAME = 'PCA'\n",
    "    def __init__(self, n_components) -> None:\n",
    "        self.model = PCA(n_components=n_components)\n",
    "\n",
    "    def fit(self, X):\n",
    "        return self.model.fit(X)\n",
    "\n",
    "    def fit_transform(self, X):\n",
    "        return self.model.fit_transform(X)\n",
    "\n",
    "    def transform(self, X):\n",
    "        return self.model.transform(X)\n",
    "\n",
    "class RPWrapper:\n",
    "    NAME = 'RP'\n",
    "    def __init__(self, n_components) -> None:\n",
    "        self.model = GaussianRandomProjection(n_components=n_components)\n",
    "    \n",
    "    def fit(self, X):\n",
    "        return self.model.fit(X)\n",
    "    \n",
    "    def fit_transform(self, X):\n",
    "        return self.model.fit_transform(X)\n",
    "\n",
    "    def transform(self, X):\n",
    "        return self.model.transform(X)\n",
    "\n",
    "    def get_reconstruction_error(self, X):\n",
    "        X_star = self.model.fit_transform(X)\n",
    "        X_reconstructed = self.model.inverse_transform(X_star)\n",
    "        return np.mean(np.square(X - X_reconstructed))\n",
    "    \n",
    "class LLEWrapper:\n",
    "    NAME = 'LLE'\n",
    "    def __init__(self, n_components) -> None:\n",
    "        self.model = LocallyLinearEmbedding(n_components=n_components, n_neighbors=10)\n",
    "    \n",
    "    def fit(self, X):\n",
    "        return self.model.fit(X)\n",
    "    \n",
    "    def fit_transform(self, X):\n",
    "        return self.model.fit_transform(X)\n",
    "    \n",
    "    def transform(self, X):\n",
    "        return self.model.transform(X)\n",
    "    \n",
    "    def get_reconstruction_error(self):\n",
    "        return self.model.reconstruction_error_"
   ]
  },
  {
   "cell_type": "code",
   "execution_count": 91,
   "metadata": {},
   "outputs": [],
   "source": [
    "# DATASET_NAME = 'mnist'\n",
    "DATASET_NAME = 'wine_quality'\n",
    "\n",
    "METHOD = ICAWrapper\n",
    "K_FOLDS = 3\n",
    "SAVE = True"
   ]
  },
  {
   "cell_type": "code",
   "execution_count": 92,
   "metadata": {},
   "outputs": [],
   "source": [
    "if DATASET_NAME == 'wine_quality':\n",
    "    DATASET_STR = 'Wine Quality'\n",
    "    X, y, _, _ = load_wine_quality_data()\n",
    "elif DATASET_NAME == 'mnist':\n",
    "    DATASET_STR = 'MNIST'\n",
    "    X, y, _, _ = load_mnist_data()\n",
    "else:\n",
    "    raise ValueError(f'Invalid dataset name {DATASET_NAME}')\n",
    "\n",
    "if DATASET_NAME == 'mnist':\n",
    "    n = 5000\n",
    "    X = X[:n]\n",
    "    y = y[:n]"
   ]
  },
  {
   "cell_type": "code",
   "execution_count": 93,
   "metadata": {},
   "outputs": [],
   "source": [
    "df_path = f'results/{DATASET_NAME}/{METHOD.NAME}_metrics.csv'\n",
    "if os.path.exists(df_path):\n",
    "    df = pd.read_csv(df_path)\n",
    "    df.set_index('num_components', inplace=True)\n",
    "    df['num_components'] = df.index\n",
    "else:\n",
    "    df = pd.DataFrame()"
   ]
  },
  {
   "cell_type": "code",
   "execution_count": 94,
   "metadata": {},
   "outputs": [
    {
     "name": "stderr",
     "output_type": "stream",
     "text": [
      "  0%|          | 0/10 [00:00<?, ?it/s]"
     ]
    },
    {
     "name": "stdout",
     "output_type": "stream",
     "text": [
      "2\n"
     ]
    },
    {
     "name": "stderr",
     "output_type": "stream",
     "text": [
      " 10%|█         | 1/10 [00:00<00:01,  4.54it/s]"
     ]
    },
    {
     "name": "stdout",
     "output_type": "stream",
     "text": [
      "3\n"
     ]
    },
    {
     "name": "stderr",
     "output_type": "stream",
     "text": [
      " 20%|██        | 2/10 [00:00<00:02,  4.00it/s]"
     ]
    },
    {
     "name": "stdout",
     "output_type": "stream",
     "text": [
      "4\n"
     ]
    },
    {
     "name": "stderr",
     "output_type": "stream",
     "text": [
      "/home/stevie/git/gatech/machine_learning/unsupervised_learning/venv/lib/python3.8/site-packages/sklearn/decomposition/_fastica.py:128: ConvergenceWarning: FastICA did not converge. Consider increasing tolerance or the maximum number of iterations.\n",
      "  warnings.warn(\n",
      " 30%|███       | 3/10 [00:01<00:03,  1.79it/s]"
     ]
    },
    {
     "name": "stdout",
     "output_type": "stream",
     "text": [
      "5\n"
     ]
    },
    {
     "name": "stderr",
     "output_type": "stream",
     "text": [
      " 40%|████      | 4/10 [00:01<00:02,  2.20it/s]"
     ]
    },
    {
     "name": "stdout",
     "output_type": "stream",
     "text": [
      "6\n"
     ]
    },
    {
     "name": "stderr",
     "output_type": "stream",
     "text": [
      " 50%|█████     | 5/10 [00:02<00:02,  2.44it/s]"
     ]
    },
    {
     "name": "stdout",
     "output_type": "stream",
     "text": [
      "7\n"
     ]
    },
    {
     "name": "stderr",
     "output_type": "stream",
     "text": [
      " 60%|██████    | 6/10 [00:02<00:01,  2.59it/s]"
     ]
    },
    {
     "name": "stdout",
     "output_type": "stream",
     "text": [
      "8\n"
     ]
    },
    {
     "name": "stderr",
     "output_type": "stream",
     "text": [
      " 70%|███████   | 7/10 [00:02<00:01,  2.62it/s]"
     ]
    },
    {
     "name": "stdout",
     "output_type": "stream",
     "text": [
      "9\n"
     ]
    },
    {
     "name": "stderr",
     "output_type": "stream",
     "text": [
      " 80%|████████  | 8/10 [00:03<00:00,  2.65it/s]"
     ]
    },
    {
     "name": "stdout",
     "output_type": "stream",
     "text": [
      "10\n"
     ]
    },
    {
     "name": "stderr",
     "output_type": "stream",
     "text": [
      " 90%|█████████ | 9/10 [00:03<00:00,  2.19it/s]"
     ]
    },
    {
     "name": "stdout",
     "output_type": "stream",
     "text": [
      "11\n"
     ]
    },
    {
     "name": "stderr",
     "output_type": "stream",
     "text": [
      "100%|██████████| 10/10 [00:04<00:00,  2.17it/s]\n"
     ]
    }
   ],
   "source": [
    "n = X.shape[0] // K_FOLDS\n",
    "\n",
    "if DATASET_NAME == 'mnist':\n",
    "    range_ = [2,3,4]+list(range(5, 100, 5))\n",
    "    print(range_)\n",
    "elif DATASET_NAME == 'wine_quality':\n",
    "    range_ = range(2, 12)\n",
    "\n",
    "for components in tqdm(range_):\n",
    "    print(components)\n",
    "    training_time_list = []\n",
    "    evaluation_time_list = []\n",
    "    kurtosis_list = []\n",
    "    reconstruction_error_list = []\n",
    "    acc_list = []\n",
    "    for i in range(K_FOLDS):\n",
    "        X_train = np.concatenate([X[:i * n], X[(i + 1) * n:]])\n",
    "        y_train = np.concatenate([y[:i * n], y[(i + 1) * n:]])\n",
    "        X_test = X[i * n:(i + 1) * n]\n",
    "        y_test = y[i * n:(i + 1) * n]\n",
    "\n",
    "        model = METHOD(components)\n",
    "        t0 = time.perf_counter()\n",
    "        X_train_star = model.fit_transform(X_train)\n",
    "        t1 = time.perf_counter()\n",
    "        training_time_list.append(t1 - t0)\n",
    "\n",
    "        t0 = time.perf_counter()\n",
    "        X_test_star = model.transform(X_test) \n",
    "        t1 = time.perf_counter()\n",
    "        evaluation_time_list.append(t1 - t0)\n",
    "\n",
    "        knn = KNeighborsClassifier(n_neighbors=3)\n",
    "        knn.fit(model.transform(X_train), y_train)\n",
    "        acc_knn = knn.score(model.transform(X_test), y_test)\n",
    "        acc_list.append(acc_knn)\n",
    "\n",
    "        if METHOD == ICAWrapper:\n",
    "            # calculate kurtosis using X_test_star\n",
    "            kurtosis = scipy.stats.kurtosis(X_test_star, axis=0)\n",
    "            kurtosis_list.append(kurtosis)\n",
    "\n",
    "        if METHOD == RPWrapper:\n",
    "            error = model.get_reconstruction_error(X_test)\n",
    "            reconstruction_error_list.append(error)\n",
    "\n",
    "        if METHOD == LLEWrapper:\n",
    "            error = model.get_reconstruction_error()\n",
    "            reconstruction_error_list.append(error)\n",
    "\n",
    "    df.loc[components, 'num_components'] = components\n",
    "    df.loc[components, 'training_time_mean'] = np.mean(training_time_list)\n",
    "    df.loc[components, 'training_time_std'] = np.std(training_time_list)\n",
    "    df.loc[components, 'evaluation_time_mean'] = np.mean(evaluation_time_list)\n",
    "    df.loc[components, 'evaluation_time_std'] = np.std(evaluation_time_list)\n",
    "    df.loc[components, 'accuracy_mean'] = np.mean(acc_list)\n",
    "    df.loc[components, 'accuracy_std'] = np.std(acc_list)\n",
    "    if METHOD == RPWrapper or METHOD == LLEWrapper:\n",
    "        df.loc[components, 'reconstruction_error_mean'] = np.mean(reconstruction_error_list)\n",
    "        df.loc[components, 'reconstruction_error_std'] = np.std(reconstruction_error_list)\n",
    "    if METHOD == ICAWrapper:\n",
    "        df.loc[components, 'kurtosis_mean'] = np.mean(kurtosis_list)\n",
    "        df.loc[components, 'kurtosis_std'] = np.std(kurtosis_list)"
   ]
  },
  {
   "cell_type": "code",
   "execution_count": 95,
   "metadata": {},
   "outputs": [],
   "source": [
    "if SAVE:\n",
    "    os.makedirs(os.path.dirname(df_path), exist_ok=True)\n",
    "    df.to_csv(df_path, index=False)"
   ]
  },
  {
   "cell_type": "code",
   "execution_count": 96,
   "metadata": {},
   "outputs": [],
   "source": [
    "if DATASET_NAME == 'mnist':\n",
    "    # components = 196\n",
    "    components = 40\n",
    "elif DATASET_NAME == 'wine_quality':\n",
    "    components = 11"
   ]
  },
  {
   "cell_type": "code",
   "execution_count": 97,
   "metadata": {},
   "outputs": [
    {
     "data": {
      "text/plain": [
       "(array([10.,  0.,  0.,  0.,  0.,  0.,  0.,  0.,  0.,  1.]),\n",
       " array([ -0.88350894,  67.62834327, 136.14019549, 204.65204771,\n",
       "        273.16389992, 341.67575214, 410.18760436, 478.69945657,\n",
       "        547.21130879, 615.72316101, 684.23501322]),\n",
       " <BarContainer object of 10 artists>)"
      ]
     },
     "execution_count": 97,
     "metadata": {},
     "output_type": "execute_result"
    },
    {
     "data": {
      "image/png": "[encoded data removed]",
      "text/plain": [
       "<Figure size 640x480 with 1 Axes>"
      ]
     },
     "metadata": {},
     "output_type": "display_data"
    }
   ],
   "source": [
    "import matplotlib.pyplot as plt\n",
    "plt.hist(kurtosis)"
   ]
  },
  {
   "cell_type": "code",
   "execution_count": 98,
   "metadata": {},
   "outputs": [
    {
     "name": "stderr",
     "output_type": "stream",
     "text": [
      "100%|██████████| 11/11 [00:01<00:00, 10.75it/s]\n"
     ]
    }
   ],
   "source": [
    "for i in range(K_FOLDS):\n",
    "    X_train = np.concatenate([X[:i * n], X[(i + 1) * n:]])\n",
    "    y_train = np.concatenate([y[:i * n], y[(i + 1) * n:]])\n",
    "    X_test = X[i * n:(i + 1) * n]\n",
    "    y_test = y[i * n:(i + 1) * n]\n",
    "    model = FastICA(n_components=components, max_iter=1000)\n",
    "    X_train_star = model.fit_transform(X_train)\n",
    "    kurtosis = scipy.stats.kurtosis(X_train_star, axis=0)\n",
    "    c = []\n",
    "    scores = []\n",
    "    for i in tqdm(range(0, components)):\n",
    "        knn = KNeighborsClassifier(n_neighbors=3)\n",
    "        thresh = np.sort(kurtosis)[::-1][i]\n",
    "        mask = kurtosis <= thresh\n",
    "        knn.fit(model.transform(X_train)[:, mask], y_train)\n",
    "        acc_knn = knn.score(model.transform(X_test)[:, mask], y_test)\n",
    "        c.append(np.sum(mask))\n",
    "        scores.append(acc_knn)"
   ]
  },
  {
   "cell_type": "code",
   "execution_count": 100,
   "metadata": {},
   "outputs": [
    {
     "data": {
      "image/png": "[encoded data removed]",
      "text/plain": [
       "<Figure size 640x480 with 1 Axes>"
      ]
     },
     "metadata": {},
     "output_type": "display_data"
    }
   ],
   "source": [
    "plt.title(f'{DATASET_STR} - Number of Most Kurtotic Components vs Accuracy')\n",
    "plt.xlabel('Number of Most Kurtotic Components')\n",
    "plt.ylabel('Accuracy')\n",
    "plt.plot(c, scores)\n",
    "plt.savefig(f'figures/{DATASET_NAME}_{METHOD.NAME}_kurtosis_vs_accuracy.png')"
   ]
  },
  {
   "cell_type": "code",
   "execution_count": null,
   "metadata": {},
   "outputs": [],
   "source": []
  }
 ],
 "metadata": {
  "kernelspec": {
   "display_name": "tf210",
   "language": "python",
   "name": "python3"
  },
  "language_info": {
   "codemirror_mode": {
    "name": "ipython",
    "version": 3
   },
   "file_extension": ".py",
   "mimetype": "text/x-python",
   "name": "python",
   "nbconvert_exporter": "python",
   "pygments_lexer": "ipython3",
   "version": "3.8.10"
  }
 },
 "nbformat": 4,
 "nbformat_minor": 2
}
