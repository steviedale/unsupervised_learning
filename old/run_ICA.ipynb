{
 "cells": [
  {
   "cell_type": "code",
   "execution_count": 2,
   "metadata": {},
   "outputs": [],
   "source": [
    "import os\n",
    "import pandas as pd\n",
    "import numpy as np\n",
    "from tqdm import tqdm\n",
    "import time\n",
    "import matplotlib.pyplot as plt\n",
    "\n",
    "import scipy.stats\n",
    "from sklearn.decomposition import FastICA, PCA\n",
    "from sklearn.manifold import TSNE\n",
    "import numpy as np\n",
    "from sklearn.random_projection import GaussianRandomProjection"
   ]
  },
  {
   "cell_type": "code",
   "execution_count": 3,
   "metadata": {},
   "outputs": [
    {
     "name": "stderr",
     "output_type": "stream",
     "text": [
      "/Users/sdale/Library/Python/3.9/lib/python/site-packages/urllib3/__init__.py:34: NotOpenSSLWarning: urllib3 v2.0 only supports OpenSSL 1.1.1+, currently the 'ssl' module is compiled with 'LibreSSL 2.8.3'. See: https://github.com/urllib3/urllib3/issues/3020\n",
      "  warnings.warn(\n"
     ]
    }
   ],
   "source": [
    "from data_helpers.wine_quality_data_helper import load_wine_quality_data\n",
    "from data_helpers.mnist_data_helper import load_mnist_data"
   ]
  },
  {
   "cell_type": "code",
   "execution_count": 4,
   "metadata": {},
   "outputs": [],
   "source": [
    "class ICAWrapper:\n",
    "    NAME = 'ICA'\n",
    "    def __init__(self, n_components) -> None:\n",
    "        self.model = FastICA(n_components=n_components, max_iter=1000)\n",
    "    \n",
    "    def fit(self, X):\n",
    "        return self.model.fit(X)\n",
    "    \n",
    "    def fit_transform(self, X):\n",
    "        return self.model.fit_transform(X)\n",
    "    \n",
    "    def transform(self, X):\n",
    "        return self.model.transform(X)\n",
    "    \n",
    "    def get_avg_kurtosis(self, X):\n",
    "        X_star = self.model.transform(X)\n",
    "        # k = scipy.stats.kurtosis(X)\n",
    "        # k = k[k != np.inf]\n",
    "        # k = k[~np.isnan(k)]\n",
    "        kurtosis = scipy.stats.kurtosis(X_star).mean()\n",
    "        return kurtosis\n",
    "\n",
    "    def get_kurtosis_list(self, X):\n",
    "        X_star = self.model.transform(X)\n",
    "        kurtosis = scipy.stats.kurtosis(X_star)\n",
    "        return kurtosis"
   ]
  },
  {
   "cell_type": "code",
   "execution_count": 5,
   "metadata": {},
   "outputs": [],
   "source": [
    "# DATASET_NAME = 'wine_quality'\n",
    "DATASET_NAME = 'mnist'\n",
    "\n",
    "# n = 5000\n",
    "# X = X[:n]\n",
    "# y = y[:n]\n",
    "\n",
    "METHOD = ICAWrapper\n",
    "K_FOLDS = 5\n",
    "SAVE = True"
   ]
  },
  {
   "cell_type": "code",
   "execution_count": 6,
   "metadata": {},
   "outputs": [],
   "source": [
    "if DATASET_NAME == 'wine_quality':\n",
    "    X, y, _, _ = load_wine_quality_data()\n",
    "elif DATASET_NAME == 'mnist':\n",
    "    X, y, _, _ = load_mnist_data()\n",
    "else:\n",
    "    raise ValueError(f'Invalid dataset name {DATASET_NAME}')"
   ]
  },
  {
   "cell_type": "code",
   "execution_count": 7,
   "metadata": {},
   "outputs": [
    {
     "name": "stderr",
     "output_type": "stream",
     "text": [
      "/Users/sdale/Library/Python/3.9/lib/python/site-packages/sklearn/decomposition/_fastica.py:582: UserWarning: n_components is too large: it will be set to 196\n",
      "  warnings.warn(\n",
      "/Users/sdale/Library/Python/3.9/lib/python/site-packages/sklearn/decomposition/_fastica.py:128: ConvergenceWarning: FastICA did not converge. Consider increasing tolerance or the maximum number of iterations.\n",
      "  warnings.warn(\n"
     ]
    },
    {
     "ename": "AttributeError",
     "evalue": "'FastICA' object has no attribute 'kurtosis'",
     "output_type": "error",
     "traceback": [
      "\u001b[0;31m---------------------------------------------------------------------------\u001b[0m",
      "\u001b[0;31mAttributeError\u001b[0m                            Traceback (most recent call last)",
      "\u001b[1;32m/Users/sdale/repos/gatech/machine_learning/unsupervised_learning/run_ICA.ipynb Cell 6\u001b[0m line \u001b[0;36m4\n\u001b[1;32m      <a href='vscode-notebook-cell:/Users/sdale/repos/gatech/machine_learning/unsupervised_learning/run_ICA.ipynb#W5sZmlsZQ%3D%3D?line=1'>2</a>\u001b[0m model\u001b[39m.\u001b[39mfit(X[:\u001b[39m1000\u001b[39m])\n\u001b[1;32m      <a href='vscode-notebook-cell:/Users/sdale/repos/gatech/machine_learning/unsupervised_learning/run_ICA.ipynb#W5sZmlsZQ%3D%3D?line=2'>3</a>\u001b[0m X_star \u001b[39m=\u001b[39m model\u001b[39m.\u001b[39mtransform(X[\u001b[39m1000\u001b[39m:\u001b[39m2000\u001b[39m])\n\u001b[0;32m----> <a href='vscode-notebook-cell:/Users/sdale/repos/gatech/machine_learning/unsupervised_learning/run_ICA.ipynb#W5sZmlsZQ%3D%3D?line=3'>4</a>\u001b[0m kurt \u001b[39m=\u001b[39m model\u001b[39m.\u001b[39;49mkurtosis(X_star)\n",
      "\u001b[0;31mAttributeError\u001b[0m: 'FastICA' object has no attribute 'kurtosis'"
     ]
    }
   ],
   "source": [
    "model = FastICA(n_components=196, max_iter=1000)\n",
    "model.fit(X[:1000])\n",
    "X_star = model.transform(X[1000:2000])\n",
    "kurt = model.kurtosis(X_star)"
   ]
  },
  {
   "cell_type": "code",
   "execution_count": null,
   "metadata": {},
   "outputs": [],
   "source": [
    "kurt.shape"
   ]
  },
  {
   "cell_type": "code",
   "execution_count": null,
   "metadata": {},
   "outputs": [],
   "source": [
    "plt.hist(kurt, bins=100)"
   ]
  },
  {
   "cell_type": "code",
   "execution_count": 6,
   "metadata": {},
   "outputs": [],
   "source": [
    "df_path = f'results/{DATASET_NAME}/{METHOD.NAME}_metrics.csv'\n",
    "if os.path.exists(df_path):\n",
    "    df = pd.read_csv(df_path)\n",
    "    df.set_index('num_components', inplace=True)\n",
    "    df['num_components'] = df.index\n",
    "else:\n",
    "    df = pd.DataFrame()"
   ]
  },
  {
   "cell_type": "code",
   "execution_count": 7,
   "metadata": {},
   "outputs": [
    {
     "name": "stderr",
     "output_type": "stream",
     "text": [
      " 10%|█         | 1/10 [00:00<00:01,  5.22it/s]"
     ]
    },
    {
     "name": "stdout",
     "output_type": "stream",
     "text": [
      "2\n",
      "3\n"
     ]
    },
    {
     "name": "stderr",
     "output_type": "stream",
     "text": [
      " 30%|███       | 3/10 [00:00<00:00,  9.01it/s]"
     ]
    },
    {
     "name": "stdout",
     "output_type": "stream",
     "text": [
      "4\n",
      "5\n"
     ]
    },
    {
     "name": "stderr",
     "output_type": "stream",
     "text": [
      "/Users/sdale/Library/Python/3.9/lib/python/site-packages/sklearn/decomposition/_fastica.py:128: ConvergenceWarning: FastICA did not converge. Consider increasing tolerance or the maximum number of iterations.\n",
      "  warnings.warn(\n",
      " 60%|██████    | 6/10 [00:00<00:00,  9.19it/s]"
     ]
    },
    {
     "name": "stdout",
     "output_type": "stream",
     "text": [
      "6\n",
      "7\n",
      "8\n"
     ]
    },
    {
     "name": "stderr",
     "output_type": "stream",
     "text": [
      " 70%|███████   | 7/10 [00:02<00:01,  1.54it/s]"
     ]
    },
    {
     "name": "stdout",
     "output_type": "stream",
     "text": [
      "9\n"
     ]
    },
    {
     "name": "stderr",
     "output_type": "stream",
     "text": [
      " 80%|████████  | 8/10 [00:05<00:02,  1.05s/it]"
     ]
    },
    {
     "name": "stdout",
     "output_type": "stream",
     "text": [
      "10\n"
     ]
    },
    {
     "name": "stderr",
     "output_type": "stream",
     "text": [
      " 90%|█████████ | 9/10 [00:10<00:02,  2.20s/it]"
     ]
    },
    {
     "name": "stdout",
     "output_type": "stream",
     "text": [
      "11\n"
     ]
    },
    {
     "name": "stderr",
     "output_type": "stream",
     "text": [
      "100%|██████████| 10/10 [00:22<00:00,  2.25s/it]\n"
     ]
    }
   ],
   "source": [
    "n = X.shape[0] // K_FOLDS\n",
    "\n",
    "for components in tqdm(range(2, 12)):\n",
    "# for components in tqdm(range(2, 201)):\n",
    "# for components in tqdm([250, 300, 350, 400, 450, 500]):\n",
    "    print(components)\n",
    "    training_time_list = []\n",
    "    evaluation_time_list = []\n",
    "    kurtosis_list = []\n",
    "    reconstruction_error_list = []\n",
    "    for i in range(K_FOLDS):\n",
    "        X_train = np.concatenate([X[:i * n], X[(i + 1) * n:]])\n",
    "        y_train = np.concatenate([y[:i * n], y[(i + 1) * n:]])\n",
    "        X_test = X[i * n:(i + 1) * n]\n",
    "        y_test = y[i * n:(i + 1) * n]\n",
    "\n",
    "        model = METHOD(components)\n",
    "        t0 = time.perf_counter()\n",
    "        model.fit(X_train)\n",
    "        t1 = time.perf_counter()\n",
    "        training_time_list.append(t1 - t0)\n",
    "\n",
    "        t0 = time.perf_counter()\n",
    "        _ = model.transform(X_test) \n",
    "        t1 = time.perf_counter()\n",
    "        evaluation_time_list.append(t1 - t0)\n",
    "\n",
    "        if METHOD == ICAWrapper:\n",
    "            kurtosis = model.get_kurtosis(X_test)\n",
    "            kurtosis_list.append(kurtosis)\n",
    "\n",
    "        if METHOD == RPWrapper:\n",
    "            error = model.get_reconstruction_error(X_test)\n",
    "            reconstruction_error_list.append(error)\n",
    "\n",
    "    df.loc[components, 'num_components'] = components\n",
    "    df.loc[components, 'training_time_mean'] = np.mean(training_time_list)\n",
    "    df.loc[components, 'training_time_std'] = np.std(training_time_list)\n",
    "    df.loc[components, 'evaluation_time_mean'] = np.mean(evaluation_time_list)\n",
    "    df.loc[components, 'evaluation_time_std'] = np.std(evaluation_time_list)\n",
    "    if METHOD == RPWrapper:\n",
    "        df.loc[components, 'reconstruction_error_mean'] = np.mean(reconstruction_error_list)\n",
    "        df.loc[components, 'reconstruction_error_std'] = np.std(reconstruction_error_list)\n",
    "    if METHOD == ICAWrapper:\n",
    "        df.loc[components, 'kurtosis_mean'] = np.mean(kurtosis_list)\n",
    "        df.loc[components, 'kurtosis_std'] = np.std(kurtosis_list)"
   ]
  },
  {
   "cell_type": "code",
   "execution_count": 8,
   "metadata": {},
   "outputs": [],
   "source": [
    "if SAVE:\n",
    "    os.makedirs(os.path.dirname(df_path), exist_ok=True)\n",
    "    df.to_csv(df_path, index=False)"
   ]
  },
  {
   "cell_type": "code",
   "execution_count": null,
   "metadata": {},
   "outputs": [],
   "source": []
  }
 ],
 "metadata": {
  "kernelspec": {
   "display_name": "tf210",
   "language": "python",
   "name": "python3"
  },
  "language_info": {
   "codemirror_mode": {
    "name": "ipython",
    "version": 3
   },
   "file_extension": ".py",
   "mimetype": "text/x-python",
   "name": "python",
   "nbconvert_exporter": "python",
   "pygments_lexer": "ipython3",
   "version": "3.9.6"
  }
 },
 "nbformat": 4,
 "nbformat_minor": 2
}
