{
 "cells": [
  {
   "cell_type": "code",
   "execution_count": 5,
   "metadata": {},
   "outputs": [],
   "source": [
    "import os\n",
    "import pandas as pd\n",
    "import matplotlib.pyplot as plt\n",
    "import numpy as np\n",
    "from sklearn.cluster import Birch\n",
    "from sklearn.mixture import GaussianMixture\n",
    "from tqdm import tqdm\n",
    "from keras.datasets import mnist"
   ]
  },
  {
   "cell_type": "code",
   "execution_count": 6,
   "metadata": {},
   "outputs": [],
   "source": [
    "(raw_train_X, raw_train_y), (raw_test_X, raw_test_y) = mnist.load_data()\n",
    "train_X = raw_train_X / 255\n",
    "test_X = raw_test_X / 255\n",
    "train_X = train_X.reshape(train_X.shape[0], 28*28)\n",
    "test_X = test_X.reshape(test_X.shape[0], 28*28)\n",
    "perm = np.random.permutation(train_X.shape[0])\n",
    "train_X = train_X[perm]\n",
    "train_y = raw_train_y[perm]\n",
    "perm = np.random.permutation(test_X.shape[0])\n",
    "test_X = test_X[perm]\n",
    "test_y = raw_test_y[perm]\n",
    "# combine the train and test\n",
    "# X = np.concatenate([train_X, test_X])\n",
    "# y = np.concatenate([train_y, test_y])\n",
    "X = test_X\n",
    "y = test_y"
   ]
  },
  {
   "cell_type": "code",
   "execution_count": 4,
   "metadata": {},
   "outputs": [
    {
     "name": "stderr",
     "output_type": "stream",
     "text": [
      "  0%|          | 0/5 [00:00<?, ?it/s]"
     ]
    },
    {
     "name": "stdout",
     "output_type": "stream",
     "text": [
      "1\n"
     ]
    },
    {
     "name": "stderr",
     "output_type": "stream",
     "text": [
      "  0%|          | 0/5 [00:05<?, ?it/s]\n"
     ]
    },
    {
     "ename": "AttributeError",
     "evalue": "'Birch' object has no attribute 'aic'",
     "output_type": "error",
     "traceback": [
      "\u001b[0;31m---------------------------------------------------------------------------\u001b[0m",
      "\u001b[0;31mAttributeError\u001b[0m                            Traceback (most recent call last)",
      "\u001b[1;32m/Users/sdale/repos/gatech/machine_learning/unsupervised/mnist_birch.ipynb Cell 3\u001b[0m line \u001b[0;36m1\n\u001b[1;32m     <a href='vscode-notebook-cell:/Users/sdale/repos/gatech/machine_learning/unsupervised/mnist_birch.ipynb#W2sZmlsZQ%3D%3D?line=12'>13</a>\u001b[0m     y_test \u001b[39m=\u001b[39m y[i \u001b[39m*\u001b[39m n:(i \u001b[39m+\u001b[39m \u001b[39m1\u001b[39m) \u001b[39m*\u001b[39m n]\n\u001b[1;32m     <a href='vscode-notebook-cell:/Users/sdale/repos/gatech/machine_learning/unsupervised/mnist_birch.ipynb#W2sZmlsZQ%3D%3D?line=14'>15</a>\u001b[0m     gm \u001b[39m=\u001b[39m Birch(n_clusters\u001b[39m=\u001b[39mcomponents)\u001b[39m.\u001b[39mfit(X_train)\n\u001b[0;32m---> <a href='vscode-notebook-cell:/Users/sdale/repos/gatech/machine_learning/unsupervised/mnist_birch.ipynb#W2sZmlsZQ%3D%3D?line=16'>17</a>\u001b[0m     aic_list\u001b[39m.\u001b[39mappend(gm\u001b[39m.\u001b[39;49maic(X_test))\n\u001b[1;32m     <a href='vscode-notebook-cell:/Users/sdale/repos/gatech/machine_learning/unsupervised/mnist_birch.ipynb#W2sZmlsZQ%3D%3D?line=17'>18</a>\u001b[0m     bic_list\u001b[39m.\u001b[39mappend(gm\u001b[39m.\u001b[39mbic(X_test))\n\u001b[1;32m     <a href='vscode-notebook-cell:/Users/sdale/repos/gatech/machine_learning/unsupervised/mnist_birch.ipynb#W2sZmlsZQ%3D%3D?line=19'>20</a>\u001b[0m data[\u001b[39m'\u001b[39m\u001b[39mnum_components\u001b[39m\u001b[39m'\u001b[39m]\u001b[39m.\u001b[39mappend(components)\n",
      "\u001b[0;31mAttributeError\u001b[0m: 'Birch' object has no attribute 'aic'"
     ]
    }
   ],
   "source": [
    "k_folds = 2\n",
    "n = X.shape[0] // k_folds\n",
    "data = {'num_components': [], 'bic_mean': [], 'aic_mean': [], 'bic_std': [], 'aic_std': []}\n",
    "# for components in tqdm(range(1, 21)):\n",
    "for components in tqdm(range(1, 6)):\n",
    "    print(components)\n",
    "    aic_list = []\n",
    "    bic_list = []\n",
    "    for i in range(k_folds):\n",
    "        X_train = np.concatenate([X[:i * n], X[(i + 1) * n:]])\n",
    "        y_train = np.concatenate([y[:i * n], y[(i + 1) * n:]])\n",
    "        X_test = X[i * n:(i + 1) * n]\n",
    "        y_test = y[i * n:(i + 1) * n]\n",
    "\n",
    "        # gm = Birch(n_clusters=components).fit(X_train)\n",
    "        gm = GaussianMixture(n_components=components, covariance_type='full').fit(X_train)\n",
    "        # get the inertia\n",
    "        inertian = gm.score(X_test)\n",
    "\n",
    "        aic_list.append(gm.aic(X_test))\n",
    "        bic_list.append(gm.bic(X_test))\n",
    "\n",
    "    data['num_components'].append(components)\n",
    "    data['aic_mean'].append(np.mean(aic_list))\n",
    "    data['bic_mean'].append(np.mean(bic_list))\n",
    "    data['aic_std'].append(np.std(aic_list))\n",
    "    data['bic_std'].append(np.std(bic_list))"
   ]
  },
  {
   "cell_type": "code",
   "execution_count": null,
   "metadata": {},
   "outputs": [],
   "source": [
    "df = pd.DataFrame(data)\n",
    "df_path = 'results/wine_quality/birch_metrics.csv'\n",
    "os.makedirs(os.path.dirname(df_path), exist_ok=True)\n",
    "df.to_csv(df_path, index=False)"
   ]
  },
  {
   "cell_type": "code",
   "execution_count": null,
   "metadata": {},
   "outputs": [],
   "source": [
    "metric = 'aic'\n",
    "plt.plot(data['num_components'], data[f'{metric}_mean'], label=metric.upper())\n",
    "plt.fill_between(\n",
    "    np.array(data['num_components']), \n",
    "    np.array(data[f'{metric}_mean'])-np.array(data[f'{metric}_std']), \n",
    "    np.array(data[f'{metric}_mean'])+np.array(data[f'{metric}_std']), \n",
    "    alpha=0.15)"
   ]
  },
  {
   "cell_type": "code",
   "execution_count": null,
   "metadata": {},
   "outputs": [],
   "source": [
    "metric = 'bic'\n",
    "plt.plot(data['num_components'], data[f'{metric}_mean'], label=metric.upper())\n",
    "plt.fill_between(\n",
    "    np.array(data['num_components']), \n",
    "    np.array(data[f'{metric}_mean'])-np.array(data[f'{metric}_std']), \n",
    "    np.array(data[f'{metric}_mean'])+np.array(data[f'{metric}_std']), \n",
    "    alpha=0.15)"
   ]
  }
 ],
 "metadata": {
  "kernelspec": {
   "display_name": "Python 3",
   "language": "python",
   "name": "python3"
  },
  "language_info": {
   "codemirror_mode": {
    "name": "ipython",
    "version": 3
   },
   "file_extension": ".py",
   "mimetype": "text/x-python",
   "name": "python",
   "nbconvert_exporter": "python",
   "pygments_lexer": "ipython3",
   "version": "3.9.6"
  }
 },
 "nbformat": 4,
 "nbformat_minor": 2
}
