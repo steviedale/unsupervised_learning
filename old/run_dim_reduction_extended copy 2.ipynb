{
 "cells": [
  {
   "cell_type": "code",
   "execution_count": 1,
   "metadata": {},
   "outputs": [],
   "source": [
    "import os\n",
    "import pandas as pd\n",
    "import numpy as np\n",
    "from tqdm import tqdm\n",
    "import time\n",
    "import matplotlib.pyplot as plt\n",
    "\n",
    "import scipy.stats\n",
    "from sklearn.decomposition import FastICA, PCA\n",
    "from sklearn.manifold import LocallyLinearEmbedding\n",
    "from sklearn.random_projection import GaussianRandomProjection\n",
    "from sklearn.neighbors import KNeighborsClassifier"
   ]
  },
  {
   "cell_type": "code",
   "execution_count": 2,
   "metadata": {},
   "outputs": [
    {
     "name": "stderr",
     "output_type": "stream",
     "text": [
      "2024-03-25 14:17:30.060229: I tensorflow/core/platform/cpu_feature_guard.cc:182] This TensorFlow binary is optimized to use available CPU instructions in performance-critical operations.\n",
      "To enable the following instructions: AVX2 FMA, in other operations, rebuild TensorFlow with the appropriate compiler flags.\n",
      "2024-03-25 14:17:30.883693: W tensorflow/compiler/tf2tensorrt/utils/py_utils.cc:38] TF-TRT Warning: Could not find TensorRT\n"
     ]
    }
   ],
   "source": [
    "from data_helpers.wine_quality_data_helper import load_wine_quality_data\n",
    "from data_helpers.mnist_data_helper import load_mnist_data"
   ]
  },
  {
   "cell_type": "code",
   "execution_count": 3,
   "metadata": {},
   "outputs": [],
   "source": [
    "class ICAWrapper:\n",
    "    NAME = 'ICA'\n",
    "    def __init__(self, n_components) -> None:\n",
    "        self.model = FastICA(n_components=n_components, max_iter=1000)\n",
    "    \n",
    "    def fit(self, X):\n",
    "        return self.model.fit(X)\n",
    "    \n",
    "    def fit_transform(self, X):\n",
    "        return self.model.fit_transform(X)\n",
    "    \n",
    "    def transform(self, X):\n",
    "        return self.model.transform(X)\n",
    "    \n",
    "    def get_kurtosis(self, X):\n",
    "        X_star = self.model.fit_transform(X)\n",
    "        # k = scipy.stats.kurtosis(X)\n",
    "        # k = k[k != np.inf]\n",
    "        # k = k[~np.isnan(k)]\n",
    "        kurtosis = scipy.stats.kurtosis(X_star).mean()\n",
    "        return kurtosis\n",
    "\n",
    "class PCAWrapper:\n",
    "    NAME = 'PCA'\n",
    "    def __init__(self, n_components) -> None:\n",
    "        self.model = PCA(n_components=n_components)\n",
    "\n",
    "    def fit(self, X):\n",
    "        return self.model.fit(X)\n",
    "\n",
    "    def fit_transform(self, X):\n",
    "        return self.model.fit_transform(X)\n",
    "\n",
    "    def transform(self, X):\n",
    "        return self.model.transform(X)\n",
    "\n",
    "    def get_kurtosis(self, X):\n",
    "        X_star = self.model.fit_transform(X)\n",
    "        kurtosis = scipy.stats.kurtosis(X_star).mean()\n",
    "        return kurtosis\n",
    "\n",
    "class RPWrapper:\n",
    "    NAME = 'RP'\n",
    "    def __init__(self, n_components) -> None:\n",
    "        self.model = GaussianRandomProjection(n_components=n_components)\n",
    "    \n",
    "    def fit(self, X):\n",
    "        return self.model.fit(X)\n",
    "    \n",
    "    def fit_transform(self, X):\n",
    "        return self.model.fit_transform(X)\n",
    "\n",
    "    def transform(self, X):\n",
    "        return self.model.transform(X)\n",
    "    \n",
    "    def get_kurtosis(self, X):\n",
    "        X_star = self.model.fit_transform(X)\n",
    "        kurtosis = scipy.stats.kurtosis(X_star).mean()\n",
    "        return kurtosis\n",
    "    \n",
    "    def get_reconstruction_error(self, X):\n",
    "        X_star = self.model.fit_transform(X)\n",
    "        X_reconstructed = self.model.inverse_transform(X_star)\n",
    "        return np.mean(np.square(X - X_reconstructed))\n",
    "    \n",
    "class LLEWrapper:\n",
    "    NAME = 'LLE'\n",
    "    def __init__(self, n_components) -> None:\n",
    "        self.model = LocallyLinearEmbedding(n_components=n_components, n_neighbors=10)\n",
    "    \n",
    "    def fit(self, X):\n",
    "        return self.model.fit(X)\n",
    "    \n",
    "    def fit_transform(self, X):\n",
    "        return self.model.fit_transform(X)\n",
    "    \n",
    "    def transform(self, X):\n",
    "        return self.model.transform(X)\n",
    "    \n",
    "    def get_kurtosis(self, X):\n",
    "        X_star = self.model.fit_transform(X)\n",
    "        kurtosis = scipy.stats.kurtosis(X_star).mean()\n",
    "        return kurtosis\n",
    "    \n",
    "    def get_reconstruction_error(self):\n",
    "        return self.model.reconstruction_error_"
   ]
  },
  {
   "cell_type": "code",
   "execution_count": 4,
   "metadata": {},
   "outputs": [],
   "source": [
    "DATASET_NAME = 'wine_quality'\n",
    "# DATASET_NAME = 'mnist'\n",
    "\n",
    "# METHOD = RPWrapper\n",
    "# METHOD = ICAWrapper\n",
    "METHOD = LLEWrapper\n",
    "K_FOLDS = 5\n",
    "SAVE = True"
   ]
  },
  {
   "cell_type": "code",
   "execution_count": 5,
   "metadata": {},
   "outputs": [],
   "source": [
    "if DATASET_NAME == 'wine_quality':\n",
    "    DATASET_STR = 'Wine Quality'\n",
    "    X, y, _, _ = load_wine_quality_data()\n",
    "elif DATASET_NAME == 'mnist':\n",
    "    DATASET_STR = 'MNIST'\n",
    "    X, y, _, _ = load_mnist_data()\n",
    "else:\n",
    "    raise ValueError(f'Invalid dataset name {DATASET_NAME}')\n",
    "\n",
    "# n = 5000\n",
    "# X = X[:n]\n",
    "# y = y[:n]"
   ]
  },
  {
   "cell_type": "code",
   "execution_count": 6,
   "metadata": {},
   "outputs": [],
   "source": [
    "# if METHOD == LLEWrapper:\n",
    "#     model = LocallyLinearEmbedding(n_components=2, n_neighbors=10)\n",
    "#     X_star = model.fit_transform(X)\n",
    "#     plt.title(f'Locally Linear Embedding - {DATASET_STR} - 2 Components')\n",
    "#     for label in np.unique(y):\n",
    "#         X_label = X_star[y == label]\n",
    "#         plt.scatter(X_label[:, 0], X_label[:, 1], label=label)\n",
    "#     plt.ylabel('Component 2')\n",
    "#     plt.xlabel('Component 1')\n",
    "#     plt.savefig(f\"figures/{DATASET_NAME}_LLE_2D.png\")"
   ]
  },
  {
   "cell_type": "code",
   "execution_count": 7,
   "metadata": {},
   "outputs": [],
   "source": [
    "df_path = f'results/{DATASET_NAME}/{METHOD.NAME}_metrics.csv'\n",
    "if os.path.exists(df_path):\n",
    "    df = pd.read_csv(df_path)\n",
    "    df.set_index('num_components', inplace=True)\n",
    "    df['num_components'] = df.index\n",
    "else:\n",
    "    df = pd.DataFrame()"
   ]
  },
  {
   "cell_type": "code",
   "execution_count": 8,
   "metadata": {},
   "outputs": [
    {
     "name": "stderr",
     "output_type": "stream",
     "text": [
      "  0%|          | 0/10 [00:00<?, ?it/s]"
     ]
    },
    {
     "name": "stdout",
     "output_type": "stream",
     "text": [
      "2\n"
     ]
    },
    {
     "name": "stderr",
     "output_type": "stream",
     "text": [
      " 10%|█         | 1/10 [00:10<01:30, 10.08s/it]"
     ]
    },
    {
     "name": "stdout",
     "output_type": "stream",
     "text": [
      "3\n"
     ]
    },
    {
     "name": "stderr",
     "output_type": "stream",
     "text": [
      " 20%|██        | 2/10 [00:19<01:15,  9.44s/it]"
     ]
    },
    {
     "name": "stdout",
     "output_type": "stream",
     "text": [
      "4\n"
     ]
    },
    {
     "name": "stderr",
     "output_type": "stream",
     "text": [
      " 30%|███       | 3/10 [00:28<01:07,  9.64s/it]"
     ]
    },
    {
     "name": "stdout",
     "output_type": "stream",
     "text": [
      "5\n"
     ]
    },
    {
     "name": "stderr",
     "output_type": "stream",
     "text": [
      " 40%|████      | 4/10 [00:38<00:58,  9.78s/it]"
     ]
    },
    {
     "name": "stdout",
     "output_type": "stream",
     "text": [
      "6\n"
     ]
    },
    {
     "name": "stderr",
     "output_type": "stream",
     "text": [
      " 50%|█████     | 5/10 [00:48<00:48,  9.74s/it]"
     ]
    },
    {
     "name": "stdout",
     "output_type": "stream",
     "text": [
      "7\n"
     ]
    },
    {
     "name": "stderr",
     "output_type": "stream",
     "text": [
      " 60%|██████    | 6/10 [00:57<00:37,  9.50s/it]"
     ]
    },
    {
     "name": "stdout",
     "output_type": "stream",
     "text": [
      "8\n"
     ]
    },
    {
     "name": "stderr",
     "output_type": "stream",
     "text": [
      " 70%|███████   | 7/10 [01:07<00:28,  9.46s/it]"
     ]
    },
    {
     "name": "stdout",
     "output_type": "stream",
     "text": [
      "9\n"
     ]
    },
    {
     "name": "stderr",
     "output_type": "stream",
     "text": [
      " 80%|████████  | 8/10 [02:06<00:50, 25.26s/it]"
     ]
    },
    {
     "name": "stdout",
     "output_type": "stream",
     "text": [
      "10\n"
     ]
    },
    {
     "name": "stderr",
     "output_type": "stream",
     "text": [
      " 90%|█████████ | 9/10 [03:06<00:36, 36.24s/it]"
     ]
    },
    {
     "name": "stdout",
     "output_type": "stream",
     "text": [
      "11\n"
     ]
    },
    {
     "name": "stderr",
     "output_type": "stream",
     "text": [
      "100%|██████████| 10/10 [04:06<00:00, 24.65s/it]\n"
     ]
    }
   ],
   "source": [
    "n = X.shape[0] // K_FOLDS\n",
    "\n",
    "for components in tqdm(range(2, 12)):\n",
    "    print(components)\n",
    "    training_time_list = []\n",
    "    evaluation_time_list = []\n",
    "    kurtosis_list = []\n",
    "    reconstruction_error_list = []\n",
    "    acc_list = []\n",
    "    for i in range(K_FOLDS):\n",
    "        X_train = np.concatenate([X[:i * n], X[(i + 1) * n:]])\n",
    "        y_train = np.concatenate([y[:i * n], y[(i + 1) * n:]])\n",
    "        X_test = X[i * n:(i + 1) * n]\n",
    "        y_test = y[i * n:(i + 1) * n]\n",
    "\n",
    "        model = METHOD(components)\n",
    "        t0 = time.perf_counter()\n",
    "        X_train_star = model.fit_transform(X_train)\n",
    "        t1 = time.perf_counter()\n",
    "        training_time_list.append(t1 - t0)\n",
    "\n",
    "        t0 = time.perf_counter()\n",
    "        X_test_star = model.transform(X_test) \n",
    "        t1 = time.perf_counter()\n",
    "        evaluation_time_list.append(t1 - t0)\n",
    "\n",
    "        knn = KNeighborsClassifier(n_neighbors=3)\n",
    "        knn.fit(model.transform(X_train), y_train)\n",
    "        acc_knn = knn.score(model.transform(X_test), y_test)\n",
    "        acc_list.append(acc_knn)\n",
    "\n",
    "        if METHOD == ICAWrapper:\n",
    "            kurtosis = model.get_kurtosis(X_test)\n",
    "            kurtosis_list.append(kurtosis)\n",
    "\n",
    "        if METHOD == RPWrapper:\n",
    "            error = model.get_reconstruction_error(X_test)\n",
    "            reconstruction_error_list.append(error)\n",
    "\n",
    "        if METHOD == LLEWrapper:\n",
    "            error = model.get_reconstruction_error()\n",
    "            reconstruction_error_list.append(error)\n",
    "\n",
    "    df.loc[components, 'num_components'] = components\n",
    "    df.loc[components, 'training_time_mean'] = np.mean(training_time_list)\n",
    "    df.loc[components, 'training_time_std'] = np.std(training_time_list)\n",
    "    df.loc[components, 'evaluation_time_mean'] = np.mean(evaluation_time_list)\n",
    "    df.loc[components, 'evaluation_time_std'] = np.std(evaluation_time_list)\n",
    "    df.loc[components, 'accuracy_mean'] = np.mean(acc_list)\n",
    "    df.loc[components, 'accuracy_std'] = np.std(acc_list)\n",
    "    if METHOD == RPWrapper or METHOD == LLEWrapper:\n",
    "        df.loc[components, 'reconstruction_error_mean'] = np.mean(reconstruction_error_list)\n",
    "        df.loc[components, 'reconstruction_error_std'] = np.std(reconstruction_error_list)\n",
    "    if METHOD == ICAWrapper:\n",
    "        df.loc[components, 'kurtosis_mean'] = np.mean(kurtosis_list)\n",
    "        df.loc[components, 'kurtosis_std'] = np.std(kurtosis_list)"
   ]
  },
  {
   "cell_type": "code",
   "execution_count": 9,
   "metadata": {},
   "outputs": [],
   "source": [
    "if SAVE:\n",
    "    os.makedirs(os.path.dirname(df_path), exist_ok=True)\n",
    "    df.to_csv(df_path, index=False)"
   ]
  },
  {
   "cell_type": "code",
   "execution_count": null,
   "metadata": {},
   "outputs": [],
   "source": []
  }
 ],
 "metadata": {
  "kernelspec": {
   "display_name": "tf210",
   "language": "python",
   "name": "python3"
  },
  "language_info": {
   "codemirror_mode": {
    "name": "ipython",
    "version": 3
   },
   "file_extension": ".py",
   "mimetype": "text/x-python",
   "name": "python",
   "nbconvert_exporter": "python",
   "pygments_lexer": "ipython3",
   "version": "3.8.10"
  }
 },
 "nbformat": 4,
 "nbformat_minor": 2
}
