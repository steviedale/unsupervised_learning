{
 "cells": [
  {
   "cell_type": "code",
   "execution_count": null,
   "metadata": {},
   "outputs": [],
   "source": [
    "import numpy as np\n",
    "import matplotlib.pyplot as plt\n",
    "import time\n",
    "\n",
    "import scipy.stats\n",
    "from sklearn.decomposition import PCA"
   ]
  },
  {
   "cell_type": "code",
   "execution_count": null,
   "metadata": {},
   "outputs": [],
   "source": [
    "from data_helpers.wine_quality_data_helper import load_wine_quality_data\n",
    "from data_helpers.mnist_data_helper import load_mnist_data"
   ]
  },
  {
   "cell_type": "code",
   "execution_count": null,
   "metadata": {},
   "outputs": [],
   "source": [
    "class PCAWrapper:\n",
    "    NAME = 'PCA'\n",
    "    def __init__(self, n_components) -> None:\n",
    "        self.model = PCA(n_components=n_components)\n",
    "    \n",
    "    def fit(self, X):\n",
    "        return self.model.fit(X)\n",
    "    \n",
    "    def fit_transform(self, X):\n",
    "        return self.model.fit_transform(X)\n",
    "\n",
    "    def transform(self, X):\n",
    "        return self.model.transform(X)\n",
    "    \n",
    "    def get_kurtosis(self, X):\n",
    "        X_star = self.model.fit_transform(X)\n",
    "        kurtosis = scipy.stats.kurtosis(X_star).mean()\n",
    "        return kurtosis"
   ]
  },
  {
   "cell_type": "code",
   "execution_count": null,
   "metadata": {},
   "outputs": [],
   "source": [
    "# DATASET_NAME = 'mnist'\n",
    "# DATASET_STR = 'MNIST'\n",
    "\n",
    "DATASET_NAME = 'wine_quality'\n",
    "DATASET_STR = 'Wine Quality'\n",
    "\n",
    "METHOD = PCAWrapper\n",
    "K_FOLDS = 5\n",
    "SAVE = True"
   ]
  },
  {
   "cell_type": "code",
   "execution_count": null,
   "metadata": {},
   "outputs": [],
   "source": [
    "if DATASET_NAME == 'wine_quality':\n",
    "    X, y, _, _ = load_wine_quality_data()\n",
    "elif DATASET_NAME == 'mnist':\n",
    "    X, y, _, _ = load_mnist_data()\n",
    "else:\n",
    "    raise ValueError(f'Unknown dataset: {DATASET_NAME}')"
   ]
  },
  {
   "cell_type": "code",
   "execution_count": null,
   "metadata": {},
   "outputs": [],
   "source": [
    "n = X.shape[0] // K_FOLDS\n",
    "i = 0\n",
    "\n",
    "if DATASET_NAME == 'wine_quality':\n",
    "    components = 11\n",
    "elif DATASET_NAME == 'mnist':\n",
    "    components = 196\n",
    "\n",
    "X_train = np.concatenate([X[:i * n], X[(i + 1) * n:]])\n",
    "y_train = np.concatenate([y[:i * n], y[(i + 1) * n:]])\n",
    "X_test = X[i * n:(i + 1) * n]\n",
    "y_test = y[i * n:(i + 1) * n]\n",
    "\n",
    "model = METHOD(components)\n",
    "t0 = time.perf_counter()\n",
    "model.fit(X_train)\n",
    "t1 = time.perf_counter()\n",
    "training_time = t1 - t0\n",
    "\n",
    "t0 = time.perf_counter()\n",
    "_ = model.transform(X_test) \n",
    "t1 = time.perf_counter()\n",
    "evaluation_time = t1 - t0\n",
    "\n",
    "kurtosis = model.get_kurtosis(X_test)"
   ]
  },
  {
   "cell_type": "code",
   "execution_count": null,
   "metadata": {},
   "outputs": [],
   "source": [
    "plt.figure(figsize=(6, 4))\n",
    "n_samples = X.shape[0]\n",
    "# We center the data and compute the sample covariance matrix.\n",
    "X -= np.mean(X, axis=0)\n",
    "cov_matrix = np.dot(X.T, X) / n_samples\n",
    "values = []\n",
    "for eigenvector in model.model.components_:\n",
    "    values.append(np.dot(eigenvector.T, np.dot(cov_matrix, eigenvector)))\n",
    "plt.bar(range(components), values)\n",
    "plt.xlim([-1, 100])\n",
    "plt.ylabel('Explained Variance', fontsize=12)\n",
    "plt.xlabel('Num Components', fontsize=12)\n",
    "plt.title(f'PCA - {DATASET_STR} - Explained Variance', fontsize=12)"
   ]
  },
  {
   "cell_type": "code",
   "execution_count": null,
   "metadata": {},
   "outputs": [],
   "source": [
    "model.model.explained_variance_ratio_.shape"
   ]
  },
  {
   "cell_type": "code",
   "execution_count": null,
   "metadata": {},
   "outputs": [],
   "source": [
    "plt.bar(range(model.model.explained_variance_.shape[0]), model.model.explained_variance_)\n",
    "plt.xlabel('Num Components')\n",
    "plt.ylabel('Explained Variance')\n",
    "plt.title(f'{METHOD.NAME} - {DATASET_STR} - Explained Variance by Component')\n",
    "plt.savefig(f\"figures/{DATASET_NAME}_{METHOD.NAME}_explained_variance.png\")"
   ]
  },
  {
   "cell_type": "code",
   "execution_count": null,
   "metadata": {},
   "outputs": [],
   "source": [
    "import os\n",
    "fontsize = 22\n",
    "fig, ax1 = plt.subplots(figsize=(10, 6))\n",
    "plt.yticks(fontsize=fontsize-2)\n",
    "plt.xticks(fontsize=fontsize-2)\n",
    "ax2 = ax1.twinx()\n",
    "plt.yticks(fontsize=fontsize-2)\n",
    "\n",
    "n_samples = X.shape[0]\n",
    "# We center the data and compute the sample covariance matrix.\n",
    "X -= np.mean(X, axis=0)\n",
    "cov_matrix = np.dot(X.T, X) / n_samples\n",
    "values = []\n",
    "for eigenvector in model.model.components_:\n",
    "    values.append(np.dot(eigenvector.T, np.dot(cov_matrix, eigenvector)))\n",
    "\n",
    "ax1.bar(range(1, components+1), values, color='blue')\n",
    "\n",
    "if DATASET_NAME == 'mnist':\n",
    "    plt.xlim([0, 101])\n",
    "\n",
    "ax1.set_ylabel('Explained Variance', fontsize=fontsize, color='blue')\n",
    "\n",
    "ax1.set_xlabel('Num Components', fontsize=fontsize)\n",
    "\n",
    "import pandas as pd\n",
    "\n",
    "if DATASET_NAME == 'mnist':\n",
    "    key = 'accuracy'\n",
    "    key_str = 'Accuracy'\n",
    "elif DATASET_NAME == 'wine_quality':\n",
    "    key = 'mse'\n",
    "    key_str = 'MSE'\n",
    "\n",
    "df = pd.read_csv(f'results/{DATASET_NAME}/{METHOD.NAME}_metrics.csv')\n",
    "df.sort_values('num_components', inplace=True)\n",
    "ax2.plot(df['num_components'], df[f\"{key}_mean\"], label=key_str, color='red')\n",
    "ax2.fill_between(df['num_components'], \n",
    "                 df[f\"{key}_mean\"] - df[f\"{key}_std\"], \n",
    "                 df[f\"{key}_mean\"] + df[f\"{key}_std\"], \n",
    "                 color='red',\n",
    "                 alpha=0.25)\n",
    "ax2.set_ylabel(key_str, fontsize=fontsize, color='red')\n",
    "\n",
    "if DATASET_NAME == 'mnist':\n",
    "    ax2.set_ylim(0.98, 1)\n",
    "\n",
    "plt.title(f'PCA - {DATASET_STR} - Explained Variance and {key_str}', fontsize=fontsize)\n",
    "\n",
    "path = (f'/Users/sdale/repos/gatech/machine_learning/unsupervised_learning/final_results/step_2/'+\n",
    "        f'{METHOD.NAME.lower()}_{DATASET_NAME.lower()}_exp_var.png')\n",
    "print(path)\n",
    "os.makedirs(os.path.dirname(path), exist_ok=True)\n",
    "plt.savefig(path, bbox_inches='tight')"
   ]
  },
  {
   "cell_type": "code",
   "execution_count": null,
   "metadata": {},
   "outputs": [],
   "source": []
  }
 ],
 "metadata": {
  "kernelspec": {
   "display_name": "tf210",
   "language": "python",
   "name": "python3"
  },
  "language_info": {
   "codemirror_mode": {
    "name": "ipython",
    "version": 3
   },
   "file_extension": ".py",
   "mimetype": "text/x-python",
   "name": "python",
   "nbconvert_exporter": "python",
   "pygments_lexer": "ipython3",
   "version": "3.12.2"
  }
 },
 "nbformat": 4,
 "nbformat_minor": 2
}
