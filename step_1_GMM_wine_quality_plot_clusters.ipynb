{
 "cells": [
  {
   "cell_type": "code",
   "execution_count": 1,
   "metadata": {},
   "outputs": [],
   "source": [
    "# suppress all warnings\n",
    "import warnings\n",
    "warnings.filterwarnings(\"ignore\")"
   ]
  },
  {
   "cell_type": "code",
   "execution_count": 2,
   "metadata": {},
   "outputs": [],
   "source": [
    "import os\n",
    "import pandas as pd\n",
    "import numpy as np\n",
    "from tqdm import tqdm\n",
    "\n",
    "from sklearn.cluster import KMeans\n",
    "from sklearn.mixture import GaussianMixture\n",
    "\n",
    "import time\n",
    "import matplotlib.pyplot as plt"
   ]
  },
  {
   "cell_type": "code",
   "execution_count": 3,
   "metadata": {},
   "outputs": [],
   "source": [
    "from data_helpers.wine_quality_data_helper import load_wine_quality_data\n",
    "from data_helpers.mnist_data_helper import load_mnist_data"
   ]
  },
  {
   "cell_type": "code",
   "execution_count": 4,
   "metadata": {},
   "outputs": [],
   "source": [
    "class GaussianMixtureWrapper:\n",
    "    NAME = 'GMM'\n",
    "    def __init__(self, n_components):\n",
    "        self.n_components = n_components\n",
    "        self.model = GaussianMixture(n_components=n_components)\n",
    "\n",
    "    def fit(self, X):\n",
    "        self.model.fit(X)\n",
    "\n",
    "    def predict(self, X):\n",
    "        return self.model.predict(X)\n",
    "    \n",
    "    def bic(self, X):\n",
    "        return self.model.bic(X)\n",
    "\n",
    "    def aic(self, X):\n",
    "        return self.model.aic(X)\n",
    "\n",
    "class KMeansWrapper:\n",
    "    NAME = 'KMeans'\n",
    "    def __init__(self, n_clusters):\n",
    "        self.n_clusters = n_clusters\n",
    "        self.model = KMeans(n_clusters=n_clusters)\n",
    "\n",
    "    def fit(self, X):\n",
    "        self.model.fit(X)\n",
    "\n",
    "    def predict(self, X):\n",
    "        return self.model.predict(X)\n",
    "    \n",
    "    def inertia(self):\n",
    "        return self.model.inertia_"
   ]
  },
  {
   "cell_type": "code",
   "execution_count": 5,
   "metadata": {},
   "outputs": [],
   "source": [
    "# DATASET_NAME = 'mnist'\n",
    "DATASET_NAME = 'wine_quality'\n",
    "\n",
    "METHOD = GaussianMixtureWrapper\n",
    "# METHOD = KMeansWrapper\n",
    "SAVE = True\n",
    "\n",
    "if DATASET_NAME == 'mnist':\n",
    "    num_components = 2\n",
    "elif DATASET_NAME == 'wine_quality':\n",
    "    num_components = 5"
   ]
  },
  {
   "cell_type": "code",
   "execution_count": 6,
   "metadata": {},
   "outputs": [],
   "source": [
    "if DATASET_NAME == 'wine_quality':\n",
    "    DATASET_STR = 'Wine Quality'\n",
    "    X, y, _, _ = load_wine_quality_data()\n",
    "elif DATASET_NAME == 'mnist':\n",
    "    DATASET_STR = 'MNIST'\n",
    "    X, y, _, _ = load_mnist_data()\n",
    "else:\n",
    "    raise ValueError(f'Invalid dataset name {DATASET_NAME}')"
   ]
  },
  {
   "cell_type": "code",
   "execution_count": 7,
   "metadata": {},
   "outputs": [],
   "source": [
    "N = int(X.shape[0] * 0.8)\n",
    "X_train = X[:N]\n",
    "X_test = X[N:]\n",
    "y_train = y[:N]\n",
    "y_test = y[N:]"
   ]
  },
  {
   "cell_type": "code",
   "execution_count": 8,
   "metadata": {},
   "outputs": [],
   "source": [
    "model = METHOD(num_components)\n",
    "model.fit(X_train)\n",
    "pred = model.predict(X_test)"
   ]
  },
  {
   "cell_type": "code",
   "execution_count": 9,
   "metadata": {},
   "outputs": [],
   "source": [
    "buckets = {}\n",
    "for i in range(num_components):\n",
    "    mask = pred == i\n",
    "    y_masked = y_test[mask]\n",
    "    buckets[i] = y_masked"
   ]
  },
  {
   "cell_type": "code",
   "execution_count": 10,
   "metadata": {},
   "outputs": [],
   "source": [
    "# sort buckets by size (largest to smallest)\n",
    "buckets = {k: v for k, v in sorted(buckets.items(), key=lambda item: len(item[1]), reverse=True)}"
   ]
  },
  {
   "cell_type": "code",
   "execution_count": 13,
   "metadata": {},
   "outputs": [],
   "source": [
    "YELLOW = np.array([1, 1, 0])\n",
    "RED = np.array([1, 0, 0])\n",
    "LABELS = [3, 4, 5, 6, 7, 8, 9]\n",
    "COLORS = {}\n",
    "for i, label in enumerate(LABELS):\n",
    "    COLORS[label] = YELLOW + i * (RED - YELLOW) / len(LABELS)"
   ]
  },
  {
   "cell_type": "code",
   "execution_count": 14,
   "metadata": {},
   "outputs": [
    {
     "data": {
      "text/plain": [
       "<matplotlib.legend.Legend at 0x31422efc0>"
      ]
     },
     "execution_count": 14,
     "metadata": {},
     "output_type": "execute_result"
    },
    {
     "data": {
      "image/png": "[encoded data removed]",
      "text/plain": [
       "<Figure size 1000x600 with 1 Axes>"
      ]
     },
     "metadata": {},
     "output_type": "display_data"
    }
   ],
   "source": [
    "plt.figure(figsize=(10, 6))\n",
    "for bucket_num, labels in buckets.items():\n",
    "    bottom = 0\n",
    "    for label_num in sorted(np.unique(labels)):\n",
    "        l = sum(labels == label_num)\n",
    "        plt.bar(bucket_num, l, bottom=bottom, color=COLORS[label_num])\n",
    "        bottom += l\n",
    "\n",
    "# get variance\n",
    "weighted_var = 0\n",
    "for bucket_num, labels in buckets.items():\n",
    "    if len(labels) == 0:\n",
    "        continue\n",
    "    weighted_var += np.var(labels) * len(labels)\n",
    "weighted_var /= len(y_test)\n",
    "\n",
    "fontsize = 14\n",
    "plt.title(f'{DATASET_STR} GMM Components (Variance = {weighted_var:.4f})', fontsize=fontsize)\n",
    "plt.xlabel('Cluster', fontsize=fontsize)\n",
    "plt.ylabel('Count', fontsize=fontsize)\n",
    "\n",
    "custom_lines = [plt.Line2D([0], [0], color=COLORS[i], lw=5) for i in LABELS]\n",
    "plt.legend(custom_lines, LABELS, fontsize=fontsize)"
   ]
  },
  {
   "cell_type": "code",
   "execution_count": null,
   "metadata": {},
   "outputs": [],
   "source": []
  },
  {
   "cell_type": "code",
   "execution_count": null,
   "metadata": {},
   "outputs": [],
   "source": []
  },
  {
   "cell_type": "code",
   "execution_count": null,
   "metadata": {},
   "outputs": [],
   "source": []
  }
 ],
 "metadata": {
  "kernelspec": {
   "display_name": "Python 3",
   "language": "python",
   "name": "python3"
  },
  "language_info": {
   "codemirror_mode": {
    "name": "ipython",
    "version": 3
   },
   "file_extension": ".py",
   "mimetype": "text/x-python",
   "name": "python",
   "nbconvert_exporter": "python",
   "pygments_lexer": "ipython3",
   "version": "3.12.2"
  }
 },
 "nbformat": 4,
 "nbformat_minor": 2
}
