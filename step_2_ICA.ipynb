{
 "cells": [
  {
   "cell_type": "code",
   "execution_count": 1,
   "metadata": {},
   "outputs": [],
   "source": [
    "import os\n",
    "import pandas as pd\n",
    "import numpy as np\n",
    "from tqdm import tqdm\n",
    "import time\n",
    "import scipy.stats\n",
    "from sklearn.decomposition import FastICA, PCA\n",
    "from sklearn.neighbors import KNeighborsClassifier, KNeighborsRegressor\n",
    "from sklearn.manifold import LocallyLinearEmbedding\n",
    "from sklearn.random_projection import GaussianRandomProjection"
   ]
  },
  {
   "cell_type": "code",
   "execution_count": 2,
   "metadata": {},
   "outputs": [],
   "source": [
    "from data_helpers.wine_quality_data_helper import load_wine_quality_data\n",
    "from data_helpers.mnist_data_helper import load_mnist_data"
   ]
  },
  {
   "cell_type": "code",
   "execution_count": 3,
   "metadata": {},
   "outputs": [],
   "source": [
    "class ICAWrapper:\n",
    "    NAME = 'ICA'\n",
    "    def __init__(self, n_components) -> None:\n",
    "        self.model = FastICA(n_components=n_components, max_iter=1000)\n",
    "    \n",
    "    def fit(self, X):\n",
    "        return self.model.fit(X)\n",
    "    \n",
    "    def fit_transform(self, X):\n",
    "        return self.model.fit_transform(X)\n",
    "    \n",
    "    def transform(self, X):\n",
    "        return self.model.transform(X)\n",
    "\n",
    "class PCAWrapper:\n",
    "    NAME = 'PCA'\n",
    "    def __init__(self, n_components) -> None:\n",
    "        self.model = PCA(n_components=n_components)\n",
    "\n",
    "    def fit(self, X):\n",
    "        return self.model.fit(X)\n",
    "\n",
    "    def fit_transform(self, X):\n",
    "        return self.model.fit_transform(X)\n",
    "\n",
    "    def transform(self, X):\n",
    "        return self.model.transform(X)\n",
    "\n",
    "class RPWrapper:\n",
    "    NAME = 'RP'\n",
    "    def __init__(self, n_components) -> None:\n",
    "        self.model = GaussianRandomProjection(n_components=n_components)\n",
    "    \n",
    "    def fit(self, X):\n",
    "        return self.model.fit(X)\n",
    "    \n",
    "    def fit_transform(self, X):\n",
    "        return self.model.fit_transform(X)\n",
    "\n",
    "    def transform(self, X):\n",
    "        return self.model.transform(X)\n",
    "\n",
    "    def get_reconstruction_error(self, X):\n",
    "        X_star = self.model.fit_transform(X)\n",
    "        X_reconstructed = self.model.inverse_transform(X_star)\n",
    "        return np.mean(np.square(X - X_reconstructed))\n",
    "    \n",
    "class LLEWrapper:\n",
    "    NAME = 'LLE'\n",
    "    def __init__(self, n_components) -> None:\n",
    "        self.model = LocallyLinearEmbedding(n_components=n_components, n_neighbors=10)\n",
    "    \n",
    "    def fit(self, X):\n",
    "        return self.model.fit(X)\n",
    "    \n",
    "    def fit_transform(self, X):\n",
    "        return self.model.fit_transform(X)\n",
    "    \n",
    "    def transform(self, X):\n",
    "        return self.model.transform(X)\n",
    "    \n",
    "    def get_reconstruction_error(self):\n",
    "        return self.model.reconstruction_error_"
   ]
  },
  {
   "cell_type": "code",
   "execution_count": 4,
   "metadata": {},
   "outputs": [],
   "source": [
    "# DATASET_NAME = 'mnist'\n",
    "DATASET_NAME = 'wine_quality'\n",
    "\n",
    "METHOD = ICAWrapper\n",
    "K_FOLDS = 5\n",
    "SAVE = True"
   ]
  },
  {
   "cell_type": "code",
   "execution_count": 5,
   "metadata": {},
   "outputs": [],
   "source": [
    "if DATASET_NAME == 'wine_quality':\n",
    "    DATASET_STR = 'Wine Quality'\n",
    "    X, y, _, _ = load_wine_quality_data()\n",
    "elif DATASET_NAME == 'mnist':\n",
    "    DATASET_STR = 'MNIST'\n",
    "    X, y, _, _ = load_mnist_data()\n",
    "else:\n",
    "    raise ValueError(f'Invalid dataset name {DATASET_NAME}')\n",
    "\n",
    "if DATASET_NAME == 'mnist':\n",
    "    n = 5000\n",
    "    X = X[:n]\n",
    "    y = y[:n]"
   ]
  },
  {
   "cell_type": "code",
   "execution_count": 6,
   "metadata": {},
   "outputs": [],
   "source": [
    "df_path = f'results/{DATASET_NAME}/{METHOD.NAME}_metrics.csv'\n",
    "if os.path.exists(df_path):\n",
    "    df = pd.read_csv(df_path)\n",
    "    df.set_index('num_components', inplace=True)\n",
    "    df['num_components'] = df.index\n",
    "else:\n",
    "    df = pd.DataFrame()"
   ]
  },
  {
   "cell_type": "code",
   "execution_count": 7,
   "metadata": {},
   "outputs": [
    {
     "name": "stderr",
     "output_type": "stream",
     "text": [
      "100%|██████████| 10/10 [00:00<00:00, 67108.86it/s]\n"
     ]
    }
   ],
   "source": [
    "n = X.shape[0] // K_FOLDS\n",
    "\n",
    "if DATASET_NAME == 'wine_quality':\n",
    "    range_ = range(2, 12)\n",
    "elif DATASET_NAME == 'mnist':\n",
    "    range_ = [2, 5, 10, 25, 50, 75, 100]\n",
    "else:\n",
    "    raise ValueError(f'Invalid dataset name {DATASET_NAME}')\n",
    "\n",
    "for components in tqdm(range_):\n",
    "    if components in df.index:\n",
    "        continue\n",
    "    print(components)\n",
    "    training_time_list = []\n",
    "    evaluation_time_list = []\n",
    "    kurtosis_list = []\n",
    "    reconstruction_error_list = []\n",
    "    acc_list = []\n",
    "    for i in range(K_FOLDS):\n",
    "        X_train = np.concatenate([X[:i * n], X[(i + 1) * n:]])\n",
    "        y_train = np.concatenate([y[:i * n], y[(i + 1) * n:]])\n",
    "        X_test = X[i * n:(i + 1) * n]\n",
    "        y_test = y[i * n:(i + 1) * n]\n",
    "\n",
    "        model = METHOD(components)\n",
    "        t0 = time.perf_counter()\n",
    "        X_train_star = model.fit_transform(X_train)\n",
    "        t1 = time.perf_counter()\n",
    "        training_time_list.append(t1 - t0)\n",
    "\n",
    "        t0 = time.perf_counter()\n",
    "        X_test_star = model.transform(X_test) \n",
    "        t1 = time.perf_counter()\n",
    "        evaluation_time_list.append(t1 - t0)\n",
    "\n",
    "        if DATASET_NAME == 'mnist':\n",
    "            knn = KNeighborsClassifier(n_neighbors=3)\n",
    "            knn.fit(model.transform(X_train), y_train)\n",
    "            acc_knn = knn.score(model.transform(X_test), y_test)\n",
    "            acc_list.append(acc_knn)\n",
    "        elif DATASET_NAME == 'wine_quality':\n",
    "            # run KNN regression\n",
    "            knn = KNeighborsRegressor(n_neighbors=3)\n",
    "            knn.fit(model.transform(X_train), y_train)\n",
    "            knn_pred = knn.predict(model.transform(X_test))\n",
    "            # get loss\n",
    "            loss = np.mean(np.square(knn_pred - y_test))\n",
    "            acc_list.append(loss)\n",
    "\n",
    "        if METHOD == ICAWrapper:\n",
    "            # calculate kurtosis using X_test_star\n",
    "            kurtosis = scipy.stats.kurtosis(X_test_star, axis=0)\n",
    "            kurtosis_list.append(kurtosis)\n",
    "\n",
    "        if METHOD == RPWrapper:\n",
    "            error = model.get_reconstruction_error(X_test)\n",
    "            reconstruction_error_list.append(error)\n",
    "\n",
    "        if METHOD == LLEWrapper:\n",
    "            error = model.get_reconstruction_error()\n",
    "            reconstruction_error_list.append(error)\n",
    "\n",
    "    df.loc[components, 'num_components'] = components\n",
    "    df.loc[components, 'training_time_mean'] = np.mean(training_time_list)\n",
    "    df.loc[components, 'training_time_std'] = np.std(training_time_list)\n",
    "    df.loc[components, 'evaluation_time_mean'] = np.mean(evaluation_time_list)\n",
    "    df.loc[components, 'evaluation_time_std'] = np.std(evaluation_time_list)\n",
    "\n",
    "    if DATASET_NAME == 'mnist':\n",
    "        df.loc[components, 'accuracy_mean'] = np.mean(acc_list)\n",
    "        df.loc[components, 'accuracy_std'] = np.std(acc_list)\n",
    "    elif DATASET_NAME == 'wine_quality':\n",
    "        df.loc[components, 'mse_mean'] = np.mean(acc_list)\n",
    "        df.loc[components, 'mse_std'] = np.std(acc_list)\n",
    "\n",
    "    if METHOD == RPWrapper or METHOD == LLEWrapper:\n",
    "        df.loc[components, 'reconstruction_error_mean'] = np.mean(reconstruction_error_list)\n",
    "        df.loc[components, 'reconstruction_error_std'] = np.std(reconstruction_error_list)\n",
    "    if METHOD == ICAWrapper:\n",
    "        df.loc[components, 'kurtosis_mean'] = np.mean(kurtosis_list)\n",
    "        df.loc[components, 'kurtosis_std'] = np.std(kurtosis_list)"
   ]
  },
  {
   "cell_type": "code",
   "execution_count": 8,
   "metadata": {},
   "outputs": [],
   "source": [
    "if SAVE:\n",
    "    os.makedirs(os.path.dirname(df_path), exist_ok=True)\n",
    "    df.to_csv(df_path, index=False)"
   ]
  },
  {
   "cell_type": "code",
   "execution_count": 9,
   "metadata": {},
   "outputs": [],
   "source": [
    "if DATASET_NAME == 'mnist':\n",
    "    components = 196\n",
    "    # components = 40\n",
    "elif DATASET_NAME == 'wine_quality':\n",
    "    components = 11"
   ]
  },
  {
   "cell_type": "code",
   "execution_count": 10,
   "metadata": {},
   "outputs": [
    {
     "data": {
      "text/plain": [
       "(array([7., 2., 0., 0., 0., 1., 0., 0., 0., 1.]),\n",
       " array([ -0.82530465,  33.89592126,  68.61714717, 103.33837308,\n",
       "        138.05959899, 172.7808249 , 207.50205081, 242.22327672,\n",
       "        276.94450262, 311.66572853, 346.38695444]),\n",
       " <BarContainer object of 10 artists>)"
      ]
     },
     "execution_count": 10,
     "metadata": {},
     "output_type": "execute_result"
    },
    {
     "data": {
      "image/png": "[encoded data removed]",
      "text/plain": [
       "<Figure size 640x480 with 1 Axes>"
      ]
     },
     "metadata": {},
     "output_type": "display_data"
    }
   ],
   "source": [
    "import matplotlib.pyplot as plt\n",
    "model = ICAWrapper(components)\n",
    "n = X.shape[0]//2\n",
    "model.fit(X[:n])\n",
    "X_star = model.transform(X[n:])\n",
    "kurt = scipy.stats.kurtosis(X_star, axis=0)\n",
    "plt.hist(kurt)"
   ]
  },
  {
   "cell_type": "code",
   "execution_count": 11,
   "metadata": {},
   "outputs": [
    {
     "name": "stdout",
     "output_type": "stream",
     "text": [
      "ICA fit done\n"
     ]
    },
    {
     "name": "stderr",
     "output_type": "stream",
     "text": [
      "100%|██████████| 11/11 [00:00<00:00, 422.12it/s]\n"
     ]
    },
    {
     "name": "stdout",
     "output_type": "stream",
     "text": [
      "ICA fit done\n"
     ]
    },
    {
     "name": "stderr",
     "output_type": "stream",
     "text": [
      "100%|██████████| 11/11 [00:00<00:00, 352.24it/s]\n"
     ]
    }
   ],
   "source": [
    "K_FOLDS = 2\n",
    "n = 1000\n",
    "X = X[:n]\n",
    "y = y[:n]\n",
    "n = X.shape[0] // K_FOLDS\n",
    "scores_list = []\n",
    "c_list = []\n",
    "for i in range(K_FOLDS):\n",
    "    X_train = np.concatenate([X[:i * n], X[(i + 1) * n:]])\n",
    "    y_train = np.concatenate([y[:i * n], y[(i + 1) * n:]])\n",
    "    X_test = X[i * n:(i + 1) * n]\n",
    "    y_test = y[i * n:(i + 1) * n]\n",
    "    model = FastICA(n_components=components, max_iter=1000)\n",
    "    X_train_star = model.fit_transform(X_train)\n",
    "    print('ICA fit done')\n",
    "    kurtosis = scipy.stats.kurtosis(X_train_star, axis=0)\n",
    "    scores = []\n",
    "    c = []\n",
    "    for i in tqdm(range(0, components)):\n",
    "        thresh = np.sort(kurtosis)[::-1][i]\n",
    "        mask = kurtosis <= thresh\n",
    "        c.append(sum(mask))\n",
    "        X_train_star = model.transform(X_train)[:, mask]\n",
    "        X_test_star = model.transform(X_test)[:, mask]\n",
    "        if DATASET_NAME == 'mnist':\n",
    "            knn = KNeighborsClassifier(n_neighbors=3)\n",
    "            knn.fit(X_train_star, y_train)\n",
    "            acc_knn = knn.score(X_test_star, y_test)\n",
    "            scores.append(acc_knn)\n",
    "        elif DATASET_NAME == 'wine_quality':\n",
    "            # run KNN regression\n",
    "            knn = KNeighborsRegressor(n_neighbors=3)\n",
    "            knn.fit(X_train_star, y_train)\n",
    "            knn_pred = knn.predict(X_test_star)\n",
    "            # get loss\n",
    "            loss = np.mean(np.square(knn_pred - y_test))\n",
    "            scores.append(loss)\n",
    "    c_list.append(c)\n",
    "    scores_list.append(scores)"
   ]
  },
  {
   "cell_type": "code",
   "execution_count": 12,
   "metadata": {},
   "outputs": [
    {
     "data": {
      "text/plain": [
       "[11, 10, 9, 8, 7, 6, 5, 4, 3, 2, 1]"
      ]
     },
     "execution_count": 12,
     "metadata": {},
     "output_type": "execute_result"
    }
   ],
   "source": [
    "for c in c_list:\n",
    "    for i,val in enumerate(c):\n",
    "        assert(c_list[0][i] == val)\n",
    "c = c_list[0]\n",
    "c"
   ]
  },
  {
   "cell_type": "code",
   "execution_count": 13,
   "metadata": {},
   "outputs": [],
   "source": [
    "means = []\n",
    "stds = []\n",
    "for i in range(len(scores_list[0])):\n",
    "    s = []\n",
    "    for j in range(K_FOLDS):\n",
    "        s.append(scores_list[j][i])\n",
    "    means.append(np.mean(s))\n",
    "    stds.append(np.std(s))"
   ]
  },
  {
   "cell_type": "code",
   "execution_count": 14,
   "metadata": {},
   "outputs": [
    {
     "data": {
      "image/png": "[encoded data removed]",
      "text/plain": [
       "<Figure size 1000x600 with 1 Axes>"
      ]
     },
     "metadata": {},
     "output_type": "display_data"
    }
   ],
   "source": [
    "plt.figure(figsize=(10,6))\n",
    "fontsize=14\n",
    "plt.title(f'ICA - {DATASET_STR} - Kurtotic Components vs MSE', fontsize=fontsize)\n",
    "plt.xlabel('Number of Most Kurtotic Components', fontsize=fontsize)\n",
    "plt.ylabel('Mean Squared Error', fontsize=fontsize)\n",
    "plt.plot(c, means)\n",
    "plt.fill_between(\n",
    "    c, \n",
    "    np.array(means)-np.array(stds), \n",
    "    np.array(means)+np.array(stds), \n",
    "    alpha=0.15)\n",
    "plt.savefig(f'figures/{DATASET_NAME}_{METHOD.NAME}_kurtosis_vs_mse.png')"
   ]
  },
  {
   "cell_type": "code",
   "execution_count": null,
   "metadata": {},
   "outputs": [],
   "source": []
  }
 ],
 "metadata": {
  "kernelspec": {
   "display_name": "tf210",
   "language": "python",
   "name": "python3"
  },
  "language_info": {
   "codemirror_mode": {
    "name": "ipython",
    "version": 3
   },
   "file_extension": ".py",
   "mimetype": "text/x-python",
   "name": "python",
   "nbconvert_exporter": "python",
   "pygments_lexer": "ipython3",
   "version": "3.12.2"
  }
 },
 "nbformat": 4,
 "nbformat_minor": 2
}
