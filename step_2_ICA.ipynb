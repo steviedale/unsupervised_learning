{
 "cells": [
  {
   "cell_type": "code",
   "execution_count": 1,
   "metadata": {},
   "outputs": [],
   "source": [
    "import os\n",
    "import pandas as pd\n",
    "import numpy as np\n",
    "from tqdm import tqdm\n",
    "import time\n",
    "import scipy.stats\n",
    "from sklearn.decomposition import FastICA, PCA\n",
    "from sklearn.neighbors import KNeighborsClassifier, KNeighborsRegressor\n",
    "from sklearn.manifold import LocallyLinearEmbedding\n",
    "from sklearn.random_projection import GaussianRandomProjection"
   ]
  },
  {
   "cell_type": "code",
   "execution_count": 2,
   "metadata": {},
   "outputs": [],
   "source": [
    "from data_helpers.wine_quality_data_helper import load_wine_quality_data\n",
    "from data_helpers.mnist_data_helper import load_mnist_data"
   ]
  },
  {
   "cell_type": "code",
   "execution_count": 3,
   "metadata": {},
   "outputs": [],
   "source": [
    "class ICAWrapper:\n",
    "    NAME = 'ICA'\n",
    "    def __init__(self, n_components) -> None:\n",
    "        self.model = FastICA(n_components=n_components, max_iter=1000)\n",
    "    \n",
    "    def fit(self, X):\n",
    "        return self.model.fit(X)\n",
    "    \n",
    "    def fit_transform(self, X):\n",
    "        return self.model.fit_transform(X)\n",
    "    \n",
    "    def transform(self, X):\n",
    "        return self.model.transform(X)\n",
    "\n",
    "class PCAWrapper:\n",
    "    NAME = 'PCA'\n",
    "    def __init__(self, n_components) -> None:\n",
    "        self.model = PCA(n_components=n_components)\n",
    "\n",
    "    def fit(self, X):\n",
    "        return self.model.fit(X)\n",
    "\n",
    "    def fit_transform(self, X):\n",
    "        return self.model.fit_transform(X)\n",
    "\n",
    "    def transform(self, X):\n",
    "        return self.model.transform(X)\n",
    "\n",
    "class RPWrapper:\n",
    "    NAME = 'RP'\n",
    "    def __init__(self, n_components) -> None:\n",
    "        self.model = GaussianRandomProjection(n_components=n_components)\n",
    "    \n",
    "    def fit(self, X):\n",
    "        return self.model.fit(X)\n",
    "    \n",
    "    def fit_transform(self, X):\n",
    "        return self.model.fit_transform(X)\n",
    "\n",
    "    def transform(self, X):\n",
    "        return self.model.transform(X)\n",
    "\n",
    "    def get_reconstruction_error(self, X):\n",
    "        X_star = self.model.fit_transform(X)\n",
    "        X_reconstructed = self.model.inverse_transform(X_star)\n",
    "        return np.mean(np.square(X - X_reconstructed))\n",
    "    \n",
    "class LLEWrapper:\n",
    "    NAME = 'LLE'\n",
    "    def __init__(self, n_components) -> None:\n",
    "        self.model = LocallyLinearEmbedding(n_components=n_components, n_neighbors=10)\n",
    "    \n",
    "    def fit(self, X):\n",
    "        return self.model.fit(X)\n",
    "    \n",
    "    def fit_transform(self, X):\n",
    "        return self.model.fit_transform(X)\n",
    "    \n",
    "    def transform(self, X):\n",
    "        return self.model.transform(X)\n",
    "    \n",
    "    def get_reconstruction_error(self):\n",
    "        return self.model.reconstruction_error_"
   ]
  },
  {
   "cell_type": "code",
   "execution_count": 4,
   "metadata": {},
   "outputs": [],
   "source": [
    "DATASET_NAME = 'mnist'\n",
    "# DATASET_NAME = 'wine_quality'\n",
    "\n",
    "METHOD = ICAWrapper\n",
    "K_FOLDS = 5\n",
    "SAVE = True"
   ]
  },
  {
   "cell_type": "code",
   "execution_count": 5,
   "metadata": {},
   "outputs": [],
   "source": [
    "if DATASET_NAME == 'wine_quality':\n",
    "    DATASET_STR = 'Wine Quality'\n",
    "    X, y, _, _ = load_wine_quality_data()\n",
    "elif DATASET_NAME == 'mnist':\n",
    "    DATASET_STR = 'MNIST'\n",
    "    X, y, _, _ = load_mnist_data()\n",
    "else:\n",
    "    raise ValueError(f'Invalid dataset name {DATASET_NAME}')\n",
    "\n",
    "if DATASET_NAME == 'mnist':\n",
    "    n = 5000\n",
    "    X = X[:n]\n",
    "    y = y[:n]"
   ]
  },
  {
   "cell_type": "code",
   "execution_count": 6,
   "metadata": {},
   "outputs": [],
   "source": [
    "df_path = f'results/{DATASET_NAME}/{METHOD.NAME}_metrics.csv'\n",
    "if os.path.exists(df_path):\n",
    "    df = pd.read_csv(df_path)\n",
    "    df.set_index('num_components', inplace=True)\n",
    "    df['num_components'] = df.index\n",
    "else:\n",
    "    df = pd.DataFrame()"
   ]
  },
  {
   "cell_type": "code",
   "execution_count": 7,
   "metadata": {},
   "outputs": [
    {
     "name": "stderr",
     "output_type": "stream",
     "text": [
      "  0%|          | 0/7 [00:00<?, ?it/s]"
     ]
    },
    {
     "name": "stdout",
     "output_type": "stream",
     "text": [
      "2\n"
     ]
    },
    {
     "name": "stderr",
     "output_type": "stream",
     "text": [
      " 14%|█▍        | 1/7 [00:00<00:03,  1.51it/s]"
     ]
    },
    {
     "name": "stdout",
     "output_type": "stream",
     "text": [
      "5\n"
     ]
    },
    {
     "name": "stderr",
     "output_type": "stream",
     "text": [
      " 29%|██▊       | 2/7 [00:01<00:03,  1.31it/s]"
     ]
    },
    {
     "name": "stdout",
     "output_type": "stream",
     "text": [
      "10\n"
     ]
    },
    {
     "name": "stderr",
     "output_type": "stream",
     "text": [
      "/Users/sdale/repos/gatech/machine_learning/unsupervised_learning/venv/lib/python3.12/site-packages/sklearn/decomposition/_fastica.py:128: ConvergenceWarning: FastICA did not converge. Consider increasing tolerance or the maximum number of iterations.\n",
      "  warnings.warn(\n",
      "/Users/sdale/repos/gatech/machine_learning/unsupervised_learning/venv/lib/python3.12/site-packages/sklearn/decomposition/_fastica.py:128: ConvergenceWarning: FastICA did not converge. Consider increasing tolerance or the maximum number of iterations.\n",
      "  warnings.warn(\n",
      "/Users/sdale/repos/gatech/machine_learning/unsupervised_learning/venv/lib/python3.12/site-packages/sklearn/decomposition/_fastica.py:128: ConvergenceWarning: FastICA did not converge. Consider increasing tolerance or the maximum number of iterations.\n",
      "  warnings.warn(\n",
      " 43%|████▎     | 3/7 [00:06<00:10,  2.60s/it]"
     ]
    },
    {
     "name": "stdout",
     "output_type": "stream",
     "text": [
      "25\n"
     ]
    },
    {
     "name": "stderr",
     "output_type": "stream",
     "text": [
      "/Users/sdale/repos/gatech/machine_learning/unsupervised_learning/venv/lib/python3.12/site-packages/sklearn/decomposition/_fastica.py:128: ConvergenceWarning: FastICA did not converge. Consider increasing tolerance or the maximum number of iterations.\n",
      "  warnings.warn(\n",
      "/Users/sdale/repos/gatech/machine_learning/unsupervised_learning/venv/lib/python3.12/site-packages/sklearn/decomposition/_fastica.py:128: ConvergenceWarning: FastICA did not converge. Consider increasing tolerance or the maximum number of iterations.\n",
      "  warnings.warn(\n",
      "/Users/sdale/repos/gatech/machine_learning/unsupervised_learning/venv/lib/python3.12/site-packages/sklearn/decomposition/_fastica.py:128: ConvergenceWarning: FastICA did not converge. Consider increasing tolerance or the maximum number of iterations.\n",
      "  warnings.warn(\n",
      "/Users/sdale/repos/gatech/machine_learning/unsupervised_learning/venv/lib/python3.12/site-packages/sklearn/decomposition/_fastica.py:128: ConvergenceWarning: FastICA did not converge. Consider increasing tolerance or the maximum number of iterations.\n",
      "  warnings.warn(\n",
      "/Users/sdale/repos/gatech/machine_learning/unsupervised_learning/venv/lib/python3.12/site-packages/sklearn/decomposition/_fastica.py:128: ConvergenceWarning: FastICA did not converge. Consider increasing tolerance or the maximum number of iterations.\n",
      "  warnings.warn(\n",
      " 57%|█████▋    | 4/7 [00:19<00:19,  6.65s/it]"
     ]
    },
    {
     "name": "stdout",
     "output_type": "stream",
     "text": [
      "50\n"
     ]
    },
    {
     "name": "stderr",
     "output_type": "stream",
     "text": [
      "/Users/sdale/repos/gatech/machine_learning/unsupervised_learning/venv/lib/python3.12/site-packages/sklearn/decomposition/_fastica.py:128: ConvergenceWarning: FastICA did not converge. Consider increasing tolerance or the maximum number of iterations.\n",
      "  warnings.warn(\n",
      " 71%|███████▏  | 5/7 [00:27<00:14,  7.25s/it]"
     ]
    },
    {
     "name": "stdout",
     "output_type": "stream",
     "text": [
      "75\n"
     ]
    },
    {
     "name": "stderr",
     "output_type": "stream",
     "text": [
      "/Users/sdale/repos/gatech/machine_learning/unsupervised_learning/venv/lib/python3.12/site-packages/sklearn/decomposition/_fastica.py:128: ConvergenceWarning: FastICA did not converge. Consider increasing tolerance or the maximum number of iterations.\n",
      "  warnings.warn(\n",
      "/Users/sdale/repos/gatech/machine_learning/unsupervised_learning/venv/lib/python3.12/site-packages/sklearn/decomposition/_fastica.py:128: ConvergenceWarning: FastICA did not converge. Consider increasing tolerance or the maximum number of iterations.\n",
      "  warnings.warn(\n",
      " 86%|████████▌ | 6/7 [00:48<00:11, 11.86s/it]"
     ]
    },
    {
     "name": "stdout",
     "output_type": "stream",
     "text": [
      "100\n"
     ]
    },
    {
     "name": "stderr",
     "output_type": "stream",
     "text": [
      "/Users/sdale/repos/gatech/machine_learning/unsupervised_learning/venv/lib/python3.12/site-packages/sklearn/decomposition/_fastica.py:128: ConvergenceWarning: FastICA did not converge. Consider increasing tolerance or the maximum number of iterations.\n",
      "  warnings.warn(\n",
      "/Users/sdale/repos/gatech/machine_learning/unsupervised_learning/venv/lib/python3.12/site-packages/sklearn/decomposition/_fastica.py:128: ConvergenceWarning: FastICA did not converge. Consider increasing tolerance or the maximum number of iterations.\n",
      "  warnings.warn(\n",
      "100%|██████████| 7/7 [01:16<00:00, 10.88s/it]\n"
     ]
    }
   ],
   "source": [
    "n = X.shape[0] // K_FOLDS\n",
    "\n",
    "if DATASET_NAME == 'wine_quality':\n",
    "    range_ = range(2, 12)\n",
    "elif DATASET_NAME == 'mnist':\n",
    "    range_ = [2, 5, 10, 25, 50, 75, 100]\n",
    "else:\n",
    "    raise ValueError(f'Invalid dataset name {DATASET_NAME}')\n",
    "\n",
    "for components in tqdm(range_):\n",
    "    if components in df.index:\n",
    "        continue\n",
    "    print(components)\n",
    "    training_time_list = []\n",
    "    evaluation_time_list = []\n",
    "    kurtosis_list = []\n",
    "    reconstruction_error_list = []\n",
    "    acc_list = []\n",
    "    for i in range(K_FOLDS):\n",
    "        X_train = np.concatenate([X[:i * n], X[(i + 1) * n:]])\n",
    "        y_train = np.concatenate([y[:i * n], y[(i + 1) * n:]])\n",
    "        X_test = X[i * n:(i + 1) * n]\n",
    "        y_test = y[i * n:(i + 1) * n]\n",
    "\n",
    "        model = METHOD(components)\n",
    "        t0 = time.perf_counter()\n",
    "        X_train_star = model.fit_transform(X_train)\n",
    "        t1 = time.perf_counter()\n",
    "        training_time_list.append(t1 - t0)\n",
    "\n",
    "        t0 = time.perf_counter()\n",
    "        X_test_star = model.transform(X_test) \n",
    "        t1 = time.perf_counter()\n",
    "        evaluation_time_list.append(t1 - t0)\n",
    "\n",
    "        if DATASET_NAME == 'mnist':\n",
    "            knn = KNeighborsClassifier(n_neighbors=3)\n",
    "            knn.fit(model.transform(X_train), y_train)\n",
    "            acc_knn = knn.score(model.transform(X_test), y_test)\n",
    "            acc_list.append(acc_knn)\n",
    "        elif DATASET_NAME == 'wine_quality':\n",
    "            # run KNN regression\n",
    "            knn = KNeighborsRegressor(n_neighbors=3)\n",
    "            knn.fit(model.transform(X_train), y_train)\n",
    "            knn_pred = knn.predict(model.transform(X_test))\n",
    "            # get loss\n",
    "            loss = np.mean(np.square(knn_pred - y_test))\n",
    "            acc_list.append(loss)\n",
    "\n",
    "        if METHOD == ICAWrapper:\n",
    "            # calculate kurtosis using X_test_star\n",
    "            kurtosis = scipy.stats.kurtosis(X_test_star, axis=0)\n",
    "            kurtosis_list.append(kurtosis)\n",
    "\n",
    "        if METHOD == RPWrapper:\n",
    "            error = model.get_reconstruction_error(X_test)\n",
    "            reconstruction_error_list.append(error)\n",
    "\n",
    "        if METHOD == LLEWrapper:\n",
    "            error = model.get_reconstruction_error()\n",
    "            reconstruction_error_list.append(error)\n",
    "\n",
    "    df.loc[components, 'num_components'] = components\n",
    "    df.loc[components, 'training_time_mean'] = np.mean(training_time_list)\n",
    "    df.loc[components, 'training_time_std'] = np.std(training_time_list)\n",
    "    df.loc[components, 'evaluation_time_mean'] = np.mean(evaluation_time_list)\n",
    "    df.loc[components, 'evaluation_time_std'] = np.std(evaluation_time_list)\n",
    "\n",
    "    if DATASET_NAME == 'mnist':\n",
    "        df.loc[components, 'accuracy_mean'] = np.mean(acc_list)\n",
    "        df.loc[components, 'accuracy_std'] = np.std(acc_list)\n",
    "    elif DATASET_NAME == 'wine_quality':\n",
    "        df.loc[components, 'mse_mean'] = np.mean(acc_list)\n",
    "        df.loc[components, 'mse_std'] = np.std(acc_list)\n",
    "\n",
    "    if METHOD == RPWrapper or METHOD == LLEWrapper:\n",
    "        df.loc[components, 'reconstruction_error_mean'] = np.mean(reconstruction_error_list)\n",
    "        df.loc[components, 'reconstruction_error_std'] = np.std(reconstruction_error_list)\n",
    "    if METHOD == ICAWrapper:\n",
    "        df.loc[components, 'kurtosis_mean'] = np.mean(kurtosis_list)\n",
    "        df.loc[components, 'kurtosis_std'] = np.std(kurtosis_list)"
   ]
  },
  {
   "cell_type": "code",
   "execution_count": 8,
   "metadata": {},
   "outputs": [],
   "source": [
    "if SAVE:\n",
    "    os.makedirs(os.path.dirname(df_path), exist_ok=True)\n",
    "    df.to_csv(df_path, index=False)"
   ]
  },
  {
   "cell_type": "code",
   "execution_count": 9,
   "metadata": {},
   "outputs": [],
   "source": [
    "if DATASET_NAME == 'mnist':\n",
    "    components = 196\n",
    "    # components = 40\n",
    "elif DATASET_NAME == 'wine_quality':\n",
    "    components = 11"
   ]
  },
  {
   "cell_type": "code",
   "execution_count": 10,
   "metadata": {},
   "outputs": [
    {
     "name": "stderr",
     "output_type": "stream",
     "text": [
      "/Users/sdale/repos/gatech/machine_learning/unsupervised_learning/venv/lib/python3.12/site-packages/sklearn/decomposition/_fastica.py:128: ConvergenceWarning: FastICA did not converge. Consider increasing tolerance or the maximum number of iterations.\n",
      "  warnings.warn(\n"
     ]
    },
    {
     "data": {
      "text/plain": [
       "(array([  6.,  16.,  13.,  24., 114.,  19.,   3.,   0.,   0.,   1.]),\n",
       " array([ 516.08070103,  658.47795133,  800.87520163,  943.27245193,\n",
       "        1085.66970223, 1228.06695253, 1370.46420284, 1512.86145314,\n",
       "        1655.25870344, 1797.65595374, 1940.05320404]),\n",
       " <BarContainer object of 10 artists>)"
      ]
     },
     "execution_count": 10,
     "metadata": {},
     "output_type": "execute_result"
    },
    {
     "data": {
      "image/png": "[encoded data removed]",
      "text/plain": [
       "<Figure size 640x480 with 1 Axes>"
      ]
     },
     "metadata": {},
     "output_type": "display_data"
    }
   ],
   "source": [
    "import matplotlib.pyplot as plt\n",
    "model = ICAWrapper(components)\n",
    "n = X.shape[0]//2\n",
    "model.fit(X[:n])\n",
    "X_star = model.transform(X[n:])\n",
    "kurt = scipy.stats.kurtosis(X_star, axis=0)\n",
    "plt.hist(kurt)"
   ]
  },
  {
   "cell_type": "code",
   "execution_count": 11,
   "metadata": {},
   "outputs": [
    {
     "name": "stderr",
     "output_type": "stream",
     "text": [
      "/Users/sdale/repos/gatech/machine_learning/unsupervised_learning/venv/lib/python3.12/site-packages/sklearn/decomposition/_fastica.py:128: ConvergenceWarning: FastICA did not converge. Consider increasing tolerance or the maximum number of iterations.\n",
      "  warnings.warn(\n"
     ]
    },
    {
     "name": "stdout",
     "output_type": "stream",
     "text": [
      "ICA fit done\n"
     ]
    },
    {
     "name": "stderr",
     "output_type": "stream",
     "text": [
      "100%|██████████| 196/196 [00:13<00:00, 14.46it/s]\n",
      "/Users/sdale/repos/gatech/machine_learning/unsupervised_learning/venv/lib/python3.12/site-packages/sklearn/decomposition/_fastica.py:128: ConvergenceWarning: FastICA did not converge. Consider increasing tolerance or the maximum number of iterations.\n",
      "  warnings.warn(\n"
     ]
    },
    {
     "name": "stdout",
     "output_type": "stream",
     "text": [
      "ICA fit done\n"
     ]
    },
    {
     "name": "stderr",
     "output_type": "stream",
     "text": [
      "100%|██████████| 196/196 [00:10<00:00, 19.04it/s]\n"
     ]
    }
   ],
   "source": [
    "K_FOLDS = 2\n",
    "n = 1000\n",
    "X = X[:n]\n",
    "y = y[:n]\n",
    "n = X.shape[0] // K_FOLDS\n",
    "scores_list = []\n",
    "c_list = []\n",
    "for i in range(K_FOLDS):\n",
    "    X_train = np.concatenate([X[:i * n], X[(i + 1) * n:]])\n",
    "    y_train = np.concatenate([y[:i * n], y[(i + 1) * n:]])\n",
    "    X_test = X[i * n:(i + 1) * n]\n",
    "    y_test = y[i * n:(i + 1) * n]\n",
    "    model = FastICA(n_components=components, max_iter=1000)\n",
    "    X_train_star = model.fit_transform(X_train)\n",
    "    print('ICA fit done')\n",
    "    kurtosis = scipy.stats.kurtosis(X_train_star, axis=0)\n",
    "    scores = []\n",
    "    c = []\n",
    "    for i in tqdm(range(0, components)):\n",
    "        thresh = np.sort(kurtosis)[::-1][i]\n",
    "        mask = kurtosis <= thresh\n",
    "        c.append(sum(mask))\n",
    "        X_train_star = model.transform(X_train)[:, mask]\n",
    "        X_test_star = model.transform(X_test)[:, mask]\n",
    "        if DATASET_NAME == 'mnist':\n",
    "            knn = KNeighborsClassifier(n_neighbors=3)\n",
    "            knn.fit(X_train_star, y_train)\n",
    "            acc_knn = knn.score(X_test_star, y_test)\n",
    "            scores.append(acc_knn)\n",
    "        elif DATASET_NAME == 'wine_quality':\n",
    "            # run KNN regression\n",
    "            knn = KNeighborsRegressor(n_neighbors=3)\n",
    "            knn.fit(X_train_star, y_train)\n",
    "            knn_pred = knn.predict(X_test_star)\n",
    "            # get loss\n",
    "            loss = np.mean(np.square(knn_pred - y_test))\n",
    "            scores.append(loss)\n",
    "    c_list.append(c)\n",
    "    scores_list.append(scores)"
   ]
  },
  {
   "cell_type": "code",
   "execution_count": 12,
   "metadata": {},
   "outputs": [
    {
     "data": {
      "text/plain": [
       "[196,\n",
       " 195,\n",
       " 194,\n",
       " 193,\n",
       " 192,\n",
       " 191,\n",
       " 190,\n",
       " 189,\n",
       " 188,\n",
       " 187,\n",
       " 186,\n",
       " 185,\n",
       " 184,\n",
       " 183,\n",
       " 182,\n",
       " 181,\n",
       " 180,\n",
       " 179,\n",
       " 178,\n",
       " 177,\n",
       " 176,\n",
       " 175,\n",
       " 174,\n",
       " 173,\n",
       " 172,\n",
       " 171,\n",
       " 170,\n",
       " 169,\n",
       " 168,\n",
       " 167,\n",
       " 166,\n",
       " 165,\n",
       " 164,\n",
       " 163,\n",
       " 162,\n",
       " 161,\n",
       " 160,\n",
       " 159,\n",
       " 158,\n",
       " 157,\n",
       " 156,\n",
       " 155,\n",
       " 154,\n",
       " 153,\n",
       " 152,\n",
       " 151,\n",
       " 150,\n",
       " 149,\n",
       " 148,\n",
       " 147,\n",
       " 146,\n",
       " 145,\n",
       " 144,\n",
       " 143,\n",
       " 142,\n",
       " 141,\n",
       " 140,\n",
       " 139,\n",
       " 138,\n",
       " 137,\n",
       " 136,\n",
       " 135,\n",
       " 134,\n",
       " 133,\n",
       " 132,\n",
       " 131,\n",
       " 130,\n",
       " 129,\n",
       " 128,\n",
       " 127,\n",
       " 126,\n",
       " 125,\n",
       " 124,\n",
       " 123,\n",
       " 122,\n",
       " 121,\n",
       " 120,\n",
       " 119,\n",
       " 118,\n",
       " 117,\n",
       " 116,\n",
       " 115,\n",
       " 114,\n",
       " 113,\n",
       " 112,\n",
       " 111,\n",
       " 110,\n",
       " 109,\n",
       " 108,\n",
       " 107,\n",
       " 106,\n",
       " 105,\n",
       " 104,\n",
       " 103,\n",
       " 102,\n",
       " 101,\n",
       " 100,\n",
       " 99,\n",
       " 98,\n",
       " 97,\n",
       " 96,\n",
       " 95,\n",
       " 94,\n",
       " 93,\n",
       " 92,\n",
       " 91,\n",
       " 90,\n",
       " 89,\n",
       " 88,\n",
       " 87,\n",
       " 86,\n",
       " 85,\n",
       " 84,\n",
       " 83,\n",
       " 82,\n",
       " 81,\n",
       " 80,\n",
       " 79,\n",
       " 78,\n",
       " 77,\n",
       " 76,\n",
       " 75,\n",
       " 74,\n",
       " 73,\n",
       " 72,\n",
       " 71,\n",
       " 70,\n",
       " 69,\n",
       " 68,\n",
       " 67,\n",
       " 66,\n",
       " 65,\n",
       " 64,\n",
       " 63,\n",
       " 62,\n",
       " 61,\n",
       " 60,\n",
       " 59,\n",
       " 58,\n",
       " 57,\n",
       " 56,\n",
       " 55,\n",
       " 54,\n",
       " 53,\n",
       " 52,\n",
       " 51,\n",
       " 50,\n",
       " 49,\n",
       " 48,\n",
       " 47,\n",
       " 46,\n",
       " 45,\n",
       " 44,\n",
       " 43,\n",
       " 42,\n",
       " 41,\n",
       " 40,\n",
       " 39,\n",
       " 38,\n",
       " 37,\n",
       " 36,\n",
       " 35,\n",
       " 34,\n",
       " 33,\n",
       " 32,\n",
       " 31,\n",
       " 30,\n",
       " 29,\n",
       " 28,\n",
       " 27,\n",
       " 26,\n",
       " 25,\n",
       " 24,\n",
       " 23,\n",
       " 22,\n",
       " 21,\n",
       " 20,\n",
       " 19,\n",
       " 18,\n",
       " 17,\n",
       " 16,\n",
       " 15,\n",
       " 14,\n",
       " 13,\n",
       " 12,\n",
       " 11,\n",
       " 10,\n",
       " 9,\n",
       " 8,\n",
       " 7,\n",
       " 6,\n",
       " 5,\n",
       " 4,\n",
       " 3,\n",
       " 2,\n",
       " 1]"
      ]
     },
     "execution_count": 12,
     "metadata": {},
     "output_type": "execute_result"
    }
   ],
   "source": [
    "for c in c_list:\n",
    "    for i,val in enumerate(c):\n",
    "        assert(c_list[0][i] == val)\n",
    "c = c_list[0]\n",
    "c"
   ]
  },
  {
   "cell_type": "code",
   "execution_count": 13,
   "metadata": {},
   "outputs": [],
   "source": [
    "means = []\n",
    "stds = []\n",
    "for i in range(len(scores_list[0])):\n",
    "    s = []\n",
    "    for j in range(K_FOLDS):\n",
    "        s.append(scores_list[j][i])\n",
    "    means.append(np.mean(s))\n",
    "    stds.append(np.std(s))"
   ]
  },
  {
   "cell_type": "code",
   "execution_count": 15,
   "metadata": {},
   "outputs": [
    {
     "data": {
      "text/plain": [
       "<matplotlib.collections.PolyCollection at 0x3577180e0>"
      ]
     },
     "execution_count": 15,
     "metadata": {},
     "output_type": "execute_result"
    },
    {
     "data": {
      "image/png": "[encoded data removed]",
      "text/plain": [
       "<Figure size 1000x600 with 1 Axes>"
      ]
     },
     "metadata": {},
     "output_type": "display_data"
    }
   ],
   "source": [
    "if DATASET_NAME == 'mnist':\n",
    "    METRIC_STR = 'Accuracy'\n",
    "elif DATASET_NAME == 'wine_quality':\n",
    "    METRIC_STR = 'Mean Squared Error'\n",
    "\n",
    "plt.figure(figsize=(10,6))\n",
    "fontsize=14\n",
    "plt.title(f'ICA - {DATASET_STR} - Kurtotic Components vs {METRIC_STR}', fontsize=fontsize)\n",
    "plt.xlabel('Number of Most Kurtotic Components', fontsize=fontsize)\n",
    "plt.ylabel(METRIC_STR, fontsize=fontsize)\n",
    "plt.plot(c, means)\n",
    "plt.fill_between(\n",
    "    c, \n",
    "    np.array(means)-np.array(stds), \n",
    "    np.array(means)+np.array(stds), \n",
    "    alpha=0.15)\n",
    "# plt.savefig(f'figures/{DATASET_NAME}_{METHOD.NAME}_kurtosis_vs_mse.png')"
   ]
  },
  {
   "cell_type": "code",
   "execution_count": null,
   "metadata": {},
   "outputs": [],
   "source": []
  }
 ],
 "metadata": {
  "kernelspec": {
   "display_name": "tf210",
   "language": "python",
   "name": "python3"
  },
  "language_info": {
   "codemirror_mode": {
    "name": "ipython",
    "version": 3
   },
   "file_extension": ".py",
   "mimetype": "text/x-python",
   "name": "python",
   "nbconvert_exporter": "python",
   "pygments_lexer": "ipython3",
   "version": "3.12.2"
  }
 },
 "nbformat": 4,
 "nbformat_minor": 2
}
