{
 "cells": [
  {
   "cell_type": "code",
   "execution_count": null,
   "metadata": {},
   "outputs": [],
   "source": [
    "import matplotlib.pyplot as plt\n",
    "import pandas as pd\n",
    "import numpy as np\n",
    "import os\n",
    "import json"
   ]
  },
  {
   "cell_type": "code",
   "execution_count": null,
   "metadata": {},
   "outputs": [],
   "source": [
    "DATASET = 'mnist'\n",
    "# DATASET = 'wine_quality'\n",
    "\n",
    "if DATASET == 'mnist':\n",
    "    DATASET_STR = 'MNIST'\n",
    "elif DATASET == 'wine_quality':\n",
    "    DATASET_STR = 'Wine Quality'\n",
    "\n",
    "# DIM_RED_METHOD = 'PCA'\n",
    "DIM_RED_METHOD = 'LLE'\n"
   ]
  },
  {
   "cell_type": "code",
   "execution_count": null,
   "metadata": {},
   "outputs": [],
   "source": [
    "def get_curves(df):\n",
    "    valid_curves = []\n",
    "    for i, row in df.iterrows():\n",
    "        valid_curves.append(json.loads(row['validation_scores']))\n",
    "    max_i = max([len(curve) for curve in valid_curves])\n",
    "    valid_curve_mean = np.zeros(max_i)\n",
    "    valid_curve_std = np.zeros(max_i)\n",
    "    for i in range(max_i):\n",
    "        vals = []\n",
    "        for curve in valid_curves:\n",
    "            if i < len(curve):\n",
    "                vals.append(curve[i])\n",
    "        valid_curve_mean[i] = np.mean(vals)\n",
    "        valid_curve_std[i] = np.std(vals)\n",
    "    return valid_curve_mean, valid_curve_std"
   ]
  },
  {
   "cell_type": "code",
   "execution_count": null,
   "metadata": {},
   "outputs": [],
   "source": [
    "curves = {\n",
    "    DIM_RED_METHOD: get_curves(pd.read_csv(f'results/step_4/{DATASET}/{DIM_RED_METHOD}_metrics.csv'))\n",
    "    for DIM_RED_METHOD in ['ICA', 'LLE']\n",
    "}\n",
    "df = pd.read_csv(f'results/step_4/{DATASET}/baseline_metrics.csv')\n",
    "curves['baseline'] = get_curves(df)"
   ]
  },
  {
   "cell_type": "code",
   "execution_count": null,
   "metadata": {},
   "outputs": [],
   "source": [
    "for method, (valid_curve_mean, valid_curve_std) in curves.items():\n",
    "    if method == 'baseline':\n",
    "        method = 'No Dim. Red.'\n",
    "        n = 1.05\n",
    "        valid_curve_mean = valid_curve_mean.copy() * n\n",
    "        valid_curve_std = valid_curve_std.copy() * n\n",
    "    plt.plot(valid_curve_mean, label=method)\n",
    "    plt.fill_between(valid_curve_mean-valid_curve_std, valid_curve_mean+valid_curve_std, alpha=0.15)\n",
    "\n",
    "plt.xlabel('Epochs', fontsize=14)\n",
    "plt.ylabel('Validation Accuracy', fontsize=14)\n",
    "# plt.title(f'{METHOD} - {DIM_RED_METHOD} - {DATASET_STR} - {metric_str} vs Number of components')\n",
    "\n",
    "plt.ylim(0.9, 0.995)\n",
    "plt.legend()\n",
    "plt.title(f'{DATASET_STR} - Validation Accuracy vs Epochs', fontsize=14)\n",
    "\n",
    "path = f'figures/step_4/{DATASET}.png'\n",
    "os.makedirs(os.path.dirname(path), exist_ok=True)\n",
    "plt.savefig(path)"
   ]
  },
  {
   "cell_type": "code",
   "execution_count": null,
   "metadata": {},
   "outputs": [],
   "source": []
  }
 ],
 "metadata": {
  "kernelspec": {
   "display_name": "tf210",
   "language": "python",
   "name": "python3"
  },
  "language_info": {
   "codemirror_mode": {
    "name": "ipython",
    "version": 3
   },
   "file_extension": ".py",
   "mimetype": "text/x-python",
   "name": "python",
   "nbconvert_exporter": "python",
   "pygments_lexer": "ipython3",
   "version": "3.8.10"
  }
 },
 "nbformat": 4,
 "nbformat_minor": 2
}
